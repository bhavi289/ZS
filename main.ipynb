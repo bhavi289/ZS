{
 "cells": [
  {
   "cell_type": "code",
   "execution_count": 44,
   "metadata": {},
   "outputs": [],
   "source": [
    "import numpy as np\n",
    "import pandas as pd\n",
    "import random\n",
    "import matplotlib.pyplot as plt\n",
    "import sys\n",
    "import os"
   ]
  },
  {
   "cell_type": "code",
   "execution_count": 45,
   "metadata": {},
   "outputs": [
    {
     "name": "stdout",
     "output_type": "stream",
     "text": [
      "/Users/bhavi/Documents/Projects/CristianoRonaldo\n"
     ]
    }
   ],
   "source": [
    "!pwd"
   ]
  },
  {
   "cell_type": "code",
   "execution_count": 46,
   "metadata": {},
   "outputs": [],
   "source": [
    "df = pd.read_csv(\"/Users/bhavi/Documents/Projects/CristianoRonaldo/Cristano_Ronaldo_Final_v1/data.csv\")"
   ]
  },
  {
   "cell_type": "code",
   "execution_count": 47,
   "metadata": {},
   "outputs": [
    {
     "data": {
      "text/html": [
       "<div>\n",
       "<style scoped>\n",
       "    .dataframe tbody tr th:only-of-type {\n",
       "        vertical-align: middle;\n",
       "    }\n",
       "\n",
       "    .dataframe tbody tr th {\n",
       "        vertical-align: top;\n",
       "    }\n",
       "\n",
       "    .dataframe thead th {\n",
       "        text-align: right;\n",
       "    }\n",
       "</style>\n",
       "<table border=\"1\" class=\"dataframe\">\n",
       "  <thead>\n",
       "    <tr style=\"text-align: right;\">\n",
       "      <th></th>\n",
       "      <th>Unnamed: 0</th>\n",
       "      <th>match_event_id</th>\n",
       "      <th>location_x</th>\n",
       "      <th>location_y</th>\n",
       "      <th>remaining_min</th>\n",
       "      <th>power_of_shot</th>\n",
       "      <th>knockout_match</th>\n",
       "      <th>remaining_sec</th>\n",
       "      <th>distance_of_shot</th>\n",
       "      <th>is_goal</th>\n",
       "      <th>shot_id_number</th>\n",
       "      <th>match_id</th>\n",
       "      <th>team_id</th>\n",
       "      <th>remaining_min.1</th>\n",
       "      <th>power_of_shot.1</th>\n",
       "      <th>knockout_match.1</th>\n",
       "      <th>remaining_sec.1</th>\n",
       "      <th>distance_of_shot.1</th>\n",
       "    </tr>\n",
       "  </thead>\n",
       "  <tbody>\n",
       "    <tr>\n",
       "      <th>count</th>\n",
       "      <td>30697.000000</td>\n",
       "      <td>29134.000000</td>\n",
       "      <td>29236.000000</td>\n",
       "      <td>29157.000000</td>\n",
       "      <td>29135.000000</td>\n",
       "      <td>29211.000000</td>\n",
       "      <td>29180.000000</td>\n",
       "      <td>29103.000000</td>\n",
       "      <td>29130.000000</td>\n",
       "      <td>24429.000000</td>\n",
       "      <td>29134.000000</td>\n",
       "      <td>3.069700e+04</td>\n",
       "      <td>3.069700e+04</td>\n",
       "      <td>29162.000000</td>\n",
       "      <td>29158.000000</td>\n",
       "      <td>29204.000000</td>\n",
       "      <td>29158.000000</td>\n",
       "      <td>29129.000000</td>\n",
       "    </tr>\n",
       "    <tr>\n",
       "      <th>mean</th>\n",
       "      <td>15348.000000</td>\n",
       "      <td>249.576028</td>\n",
       "      <td>7.383876</td>\n",
       "      <td>91.126933</td>\n",
       "      <td>4.883233</td>\n",
       "      <td>2.519359</td>\n",
       "      <td>0.145956</td>\n",
       "      <td>28.329382</td>\n",
       "      <td>33.448884</td>\n",
       "      <td>0.445331</td>\n",
       "      <td>15368.581039</td>\n",
       "      <td>2.476407e+07</td>\n",
       "      <td>1.610613e+09</td>\n",
       "      <td>18.204615</td>\n",
       "      <td>15.994109</td>\n",
       "      <td>16.599402</td>\n",
       "      <td>39.027303</td>\n",
       "      <td>38.801852</td>\n",
       "    </tr>\n",
       "    <tr>\n",
       "      <th>std</th>\n",
       "      <td>8861.604943</td>\n",
       "      <td>150.186019</td>\n",
       "      <td>110.263049</td>\n",
       "      <td>87.676395</td>\n",
       "      <td>3.452533</td>\n",
       "      <td>1.153976</td>\n",
       "      <td>0.353068</td>\n",
       "      <td>17.470663</td>\n",
       "      <td>9.369656</td>\n",
       "      <td>0.497013</td>\n",
       "      <td>8866.520772</td>\n",
       "      <td>7.755175e+06</td>\n",
       "      <td>0.000000e+00</td>\n",
       "      <td>29.416973</td>\n",
       "      <td>29.676815</td>\n",
       "      <td>35.172016</td>\n",
       "      <td>29.835284</td>\n",
       "      <td>18.787711</td>\n",
       "    </tr>\n",
       "    <tr>\n",
       "      <th>min</th>\n",
       "      <td>0.000000</td>\n",
       "      <td>2.000000</td>\n",
       "      <td>-250.000000</td>\n",
       "      <td>-44.000000</td>\n",
       "      <td>0.000000</td>\n",
       "      <td>1.000000</td>\n",
       "      <td>0.000000</td>\n",
       "      <td>0.000000</td>\n",
       "      <td>20.000000</td>\n",
       "      <td>0.000000</td>\n",
       "      <td>1.000000</td>\n",
       "      <td>2.000001e+07</td>\n",
       "      <td>1.610613e+09</td>\n",
       "      <td>0.000000</td>\n",
       "      <td>1.000000</td>\n",
       "      <td>0.000000</td>\n",
       "      <td>0.000000</td>\n",
       "      <td>9.400000</td>\n",
       "    </tr>\n",
       "    <tr>\n",
       "      <th>25%</th>\n",
       "      <td>7674.000000</td>\n",
       "      <td>111.000000</td>\n",
       "      <td>-68.000000</td>\n",
       "      <td>4.000000</td>\n",
       "      <td>2.000000</td>\n",
       "      <td>1.000000</td>\n",
       "      <td>0.000000</td>\n",
       "      <td>13.000000</td>\n",
       "      <td>25.000000</td>\n",
       "      <td>0.000000</td>\n",
       "      <td>7693.250000</td>\n",
       "      <td>2.050008e+07</td>\n",
       "      <td>1.610613e+09</td>\n",
       "      <td>3.000000</td>\n",
       "      <td>2.000000</td>\n",
       "      <td>0.000000</td>\n",
       "      <td>17.000000</td>\n",
       "      <td>26.000000</td>\n",
       "    </tr>\n",
       "    <tr>\n",
       "      <th>50%</th>\n",
       "      <td>15348.000000</td>\n",
       "      <td>254.000000</td>\n",
       "      <td>0.000000</td>\n",
       "      <td>74.000000</td>\n",
       "      <td>5.000000</td>\n",
       "      <td>3.000000</td>\n",
       "      <td>0.000000</td>\n",
       "      <td>28.000000</td>\n",
       "      <td>35.000000</td>\n",
       "      <td>0.000000</td>\n",
       "      <td>15378.500000</td>\n",
       "      <td>2.090035e+07</td>\n",
       "      <td>1.610613e+09</td>\n",
       "      <td>6.000000</td>\n",
       "      <td>3.000000</td>\n",
       "      <td>0.000000</td>\n",
       "      <td>35.000000</td>\n",
       "      <td>36.000000</td>\n",
       "    </tr>\n",
       "    <tr>\n",
       "      <th>75%</th>\n",
       "      <td>23022.000000</td>\n",
       "      <td>369.000000</td>\n",
       "      <td>95.000000</td>\n",
       "      <td>160.000000</td>\n",
       "      <td>8.000000</td>\n",
       "      <td>3.000000</td>\n",
       "      <td>0.000000</td>\n",
       "      <td>43.000000</td>\n",
       "      <td>41.000000</td>\n",
       "      <td>1.000000</td>\n",
       "      <td>23055.750000</td>\n",
       "      <td>2.960047e+07</td>\n",
       "      <td>1.610613e+09</td>\n",
       "      <td>11.000000</td>\n",
       "      <td>4.000000</td>\n",
       "      <td>1.000000</td>\n",
       "      <td>52.000000</td>\n",
       "      <td>44.000000</td>\n",
       "    </tr>\n",
       "    <tr>\n",
       "      <th>max</th>\n",
       "      <td>30696.000000</td>\n",
       "      <td>659.000000</td>\n",
       "      <td>248.000000</td>\n",
       "      <td>791.000000</td>\n",
       "      <td>11.000000</td>\n",
       "      <td>7.000000</td>\n",
       "      <td>1.000000</td>\n",
       "      <td>59.000000</td>\n",
       "      <td>99.000000</td>\n",
       "      <td>1.000000</td>\n",
       "      <td>30697.000000</td>\n",
       "      <td>4.990009e+07</td>\n",
       "      <td>1.610613e+09</td>\n",
       "      <td>128.761600</td>\n",
       "      <td>118.360000</td>\n",
       "      <td>141.352320</td>\n",
       "      <td>144.785600</td>\n",
       "      <td>115.728000</td>\n",
       "    </tr>\n",
       "  </tbody>\n",
       "</table>\n",
       "</div>"
      ],
      "text/plain": [
       "         Unnamed: 0  match_event_id    location_x    location_y  \\\n",
       "count  30697.000000    29134.000000  29236.000000  29157.000000   \n",
       "mean   15348.000000      249.576028      7.383876     91.126933   \n",
       "std     8861.604943      150.186019    110.263049     87.676395   \n",
       "min        0.000000        2.000000   -250.000000    -44.000000   \n",
       "25%     7674.000000      111.000000    -68.000000      4.000000   \n",
       "50%    15348.000000      254.000000      0.000000     74.000000   \n",
       "75%    23022.000000      369.000000     95.000000    160.000000   \n",
       "max    30696.000000      659.000000    248.000000    791.000000   \n",
       "\n",
       "       remaining_min  power_of_shot  knockout_match  remaining_sec  \\\n",
       "count   29135.000000   29211.000000    29180.000000   29103.000000   \n",
       "mean        4.883233       2.519359        0.145956      28.329382   \n",
       "std         3.452533       1.153976        0.353068      17.470663   \n",
       "min         0.000000       1.000000        0.000000       0.000000   \n",
       "25%         2.000000       1.000000        0.000000      13.000000   \n",
       "50%         5.000000       3.000000        0.000000      28.000000   \n",
       "75%         8.000000       3.000000        0.000000      43.000000   \n",
       "max        11.000000       7.000000        1.000000      59.000000   \n",
       "\n",
       "       distance_of_shot       is_goal  shot_id_number      match_id  \\\n",
       "count      29130.000000  24429.000000    29134.000000  3.069700e+04   \n",
       "mean          33.448884      0.445331    15368.581039  2.476407e+07   \n",
       "std            9.369656      0.497013     8866.520772  7.755175e+06   \n",
       "min           20.000000      0.000000        1.000000  2.000001e+07   \n",
       "25%           25.000000      0.000000     7693.250000  2.050008e+07   \n",
       "50%           35.000000      0.000000    15378.500000  2.090035e+07   \n",
       "75%           41.000000      1.000000    23055.750000  2.960047e+07   \n",
       "max           99.000000      1.000000    30697.000000  4.990009e+07   \n",
       "\n",
       "            team_id  remaining_min.1  power_of_shot.1  knockout_match.1  \\\n",
       "count  3.069700e+04     29162.000000     29158.000000      29204.000000   \n",
       "mean   1.610613e+09        18.204615        15.994109         16.599402   \n",
       "std    0.000000e+00        29.416973        29.676815         35.172016   \n",
       "min    1.610613e+09         0.000000         1.000000          0.000000   \n",
       "25%    1.610613e+09         3.000000         2.000000          0.000000   \n",
       "50%    1.610613e+09         6.000000         3.000000          0.000000   \n",
       "75%    1.610613e+09        11.000000         4.000000          1.000000   \n",
       "max    1.610613e+09       128.761600       118.360000        141.352320   \n",
       "\n",
       "       remaining_sec.1  distance_of_shot.1  \n",
       "count     29158.000000        29129.000000  \n",
       "mean         39.027303           38.801852  \n",
       "std          29.835284           18.787711  \n",
       "min           0.000000            9.400000  \n",
       "25%          17.000000           26.000000  \n",
       "50%          35.000000           36.000000  \n",
       "75%          52.000000           44.000000  \n",
       "max         144.785600          115.728000  "
      ]
     },
     "execution_count": 47,
     "metadata": {},
     "output_type": "execute_result"
    }
   ],
   "source": [
    "# pd.scatter_matrix(df[['match_event_id', 'remaining_min', 'knockout_match_1','remaining_min_1']], alpha=0.6, figsize=(10, 10), diagonal='kde')\n",
    "# plt.show()\n",
    "df.describe()"
   ]
  },
  {
   "cell_type": "code",
   "execution_count": 48,
   "metadata": {},
   "outputs": [],
   "source": [
    "submission = df[df.is_goal.isnull()]\n",
    "# test_data['shot_id_number'].shape,test_data.index.shape\n",
    "submission = submission.copy()\n",
    "submission.loc[:, 'shot_id_number'] = submission.index + 1\n"
   ]
  },
  {
   "cell_type": "code",
   "execution_count": 49,
   "metadata": {},
   "outputs": [
    {
     "data": {
      "text/html": [
       "<div>\n",
       "<style scoped>\n",
       "    .dataframe tbody tr th:only-of-type {\n",
       "        vertical-align: middle;\n",
       "    }\n",
       "\n",
       "    .dataframe tbody tr th {\n",
       "        vertical-align: top;\n",
       "    }\n",
       "\n",
       "    .dataframe thead th {\n",
       "        text-align: right;\n",
       "    }\n",
       "</style>\n",
       "<table border=\"1\" class=\"dataframe\">\n",
       "  <thead>\n",
       "    <tr style=\"text-align: right;\">\n",
       "      <th></th>\n",
       "      <th>shot_id_number</th>\n",
       "    </tr>\n",
       "  </thead>\n",
       "  <tbody>\n",
       "    <tr>\n",
       "      <th>0</th>\n",
       "      <td>1</td>\n",
       "    </tr>\n",
       "    <tr>\n",
       "      <th>7</th>\n",
       "      <td>8</td>\n",
       "    </tr>\n",
       "    <tr>\n",
       "      <th>16</th>\n",
       "      <td>17</td>\n",
       "    </tr>\n",
       "    <tr>\n",
       "      <th>19</th>\n",
       "      <td>20</td>\n",
       "    </tr>\n",
       "    <tr>\n",
       "      <th>21</th>\n",
       "      <td>22</td>\n",
       "    </tr>\n",
       "  </tbody>\n",
       "</table>\n",
       "</div>"
      ],
      "text/plain": [
       "    shot_id_number\n",
       "0                1\n",
       "7                8\n",
       "16              17\n",
       "19              20\n",
       "21              22"
      ]
     },
     "execution_count": 49,
     "metadata": {},
     "output_type": "execute_result"
    }
   ],
   "source": [
    "submission[['shot_id_number']].head()\n",
    "\n",
    "# test_data.tocsv(\"TestSet.csv\",index=False)"
   ]
  },
  {
   "cell_type": "code",
   "execution_count": 50,
   "metadata": {},
   "outputs": [
    {
     "data": {
      "text/plain": [
       "(0, 28)"
      ]
     },
     "execution_count": 50,
     "metadata": {},
     "output_type": "execute_result"
    }
   ],
   "source": [
    "df = df.rename(columns={'distance_of_shot.1': 'distance_of_shot_1', \\\n",
    "                        'remaining_min.1':'remaining_min_1', \\\n",
    "                        'power_of_shot.1':'power_of_shot_1', \\\n",
    "                        'knockout_match.1' : 'knockout_match_1', \\\n",
    "                        'remaining_sec.1' : 'remaining_sec_1'})\n",
    "\n",
    "df[df.match_id.isnull()].shape"
   ]
  },
  {
   "cell_type": "code",
   "execution_count": 51,
   "metadata": {},
   "outputs": [
    {
     "data": {
      "text/plain": [
       "((30697, 28), (24429, 28), (6268, 28))"
      ]
     },
     "execution_count": 51,
     "metadata": {},
     "output_type": "execute_result"
    }
   ],
   "source": [
    "data = df[df.is_goal.notnull()]\n",
    "df.shape, data.shape, submission.shape"
   ]
  },
  {
   "cell_type": "code",
   "execution_count": 52,
   "metadata": {},
   "outputs": [
    {
     "data": {
      "text/plain": [
       "((1156, 28), (1245, 28), (1257, 28), (1248, 28))"
      ]
     },
     "execution_count": 52,
     "metadata": {},
     "output_type": "execute_result"
    }
   ],
   "source": [
    "data[data.location_x.isnull()].shape, data[data.location_y.isnull()].shape, data[data.distance_of_shot.isnull()].shape, data[data.range_of_shot.isnull()].shape\n"
   ]
  },
  {
   "cell_type": "code",
   "execution_count": 53,
   "metadata": {},
   "outputs": [],
   "source": [
    "# data = df"
   ]
  },
  {
   "cell_type": "code",
   "execution_count": 54,
   "metadata": {},
   "outputs": [
    {
     "name": "stdout",
     "output_type": "stream",
     "text": [
      "'Unnamed: 0','match_event_id','location_x','location_y','remaining_min','power_of_shot','knockout_match','game_season','remaining_sec','distance_of_shot','is_goal','area_of_shot','shot_basics','range_of_shot','team_name','date_of_game','home/away','shot_id_number','lat/lng','type_of_shot','type_of_combined_shot','match_id','team_id','remaining_min_1','power_of_shot_1','knockout_match_1','remaining_sec_1','distance_of_shot_1',"
     ]
    }
   ],
   "source": [
    "for col in data.columns:\n",
    "    print (f\"'{col}'\", end=',')"
   ]
  },
  {
   "cell_type": "code",
   "execution_count": 55,
   "metadata": {},
   "outputs": [],
   "source": [
    "X_cols = ['location_x','location_y','remaining_min','power_of_shot'\\\n",
    "         ,'knockout_match','game_season','remaining_sec','distance_of_shot'\\\n",
    "         ,'area_of_shot','shot_basics','range_of_shot','date_of_game'\\\n",
    "          ,'home/away','shot_id_number','lat/lng','type_of_shot','type_of_combined_shot'\\\n",
    "          ,'match_id','team_id','remaining_min.1','power_of_shot.1','knockout_match.1'\\\n",
    "          ,'remaining_sec.1','distance_of_shot_1']"
   ]
  },
  {
   "cell_type": "markdown",
   "metadata": {},
   "source": [
    "<h1>Handling Missing Data</h1>"
   ]
  },
  {
   "cell_type": "markdown",
   "metadata": {},
   "source": [
    "<h3>Distance Parameters</h3>\n",
    "<ol>\n",
    "<li>location_x</li>\n",
    "<li>location_y</li>\n",
    "<li>distance_of_shot</li>\n",
    "<li>area_of_shot</li>\n",
    "<li>shot_basics</li>\n",
    "<li>range_of_shot</li>\n",
    "</ol>"
   ]
  },
  {
   "cell_type": "code",
   "execution_count": 56,
   "metadata": {},
   "outputs": [
    {
     "data": {
      "text/plain": [
       "(1257, 28)"
      ]
     },
     "execution_count": 56,
     "metadata": {},
     "output_type": "execute_result"
    }
   ],
   "source": [
    "# # data['distance_of_shot'].fillna(data['distance_of_shot.1'])\n",
    "# data.distance_of_shot.fillna(value = data.distance_of_shot_1)\n",
    "data[data.distance_of_shot.isnull()].shape"
   ]
  },
  {
   "cell_type": "code",
   "execution_count": 59,
   "metadata": {},
   "outputs": [
    {
     "name": "stderr",
     "output_type": "stream",
     "text": [
      "/Users/bhavi/anaconda3/lib/python3.6/site-packages/ipykernel_launcher.py:3: SettingWithCopyWarning: \n",
      "A value is trying to be set on a copy of a slice from a DataFrame.\n",
      "Try using .loc[row_indexer,col_indexer] = value instead\n",
      "\n",
      "See the caveats in the documentation: http://pandas.pydata.org/pandas-docs/stable/indexing.html#indexing-view-versus-copy\n",
      "  This is separate from the ipykernel package so we can avoid doing imports until\n"
     ]
    }
   ],
   "source": [
    "data['distance_of_shot'] = data.apply(\n",
    "    lambda row: row['distance_of_shot_1'] if np.isnan(row['distance_of_shot']) and (row['distance_of_shot_1']).is_integer() else row['distance_of_shot'],\n",
    "    axis=1\n",
    ")"
   ]
  },
  {
   "cell_type": "code",
   "execution_count": 60,
   "metadata": {},
   "outputs": [
    {
     "data": {
      "text/plain": [
       "(299, 28)"
      ]
     },
     "execution_count": 60,
     "metadata": {},
     "output_type": "execute_result"
    }
   ],
   "source": [
    "data[data.distance_of_shot.isnull()].shape"
   ]
  },
  {
   "cell_type": "code",
   "execution_count": 15,
   "metadata": {},
   "outputs": [
    {
     "name": "stderr",
     "output_type": "stream",
     "text": [
      "/Users/bhavi/anaconda3/lib/python3.6/site-packages/ipykernel_launcher.py:7: SettingWithCopyWarning: \n",
      "A value is trying to be set on a copy of a slice from a DataFrame.\n",
      "Try using .loc[row_indexer,col_indexer] = value instead\n",
      "\n",
      "See the caveats in the documentation: http://pandas.pydata.org/pandas-docs/stable/indexing.html#indexing-view-versus-copy\n",
      "  import sys\n"
     ]
    }
   ],
   "source": [
    "def findArea(x):\n",
    "    if type(x) == float and np.isnan(x):\n",
    "        return x\n",
    "    else:\n",
    "        return x.split('(')[1].split(')')[0]\n",
    "\n",
    "data[\"area_of_shot\"] = data[\"area_of_shot\"].apply(findArea)"
   ]
  },
  {
   "cell_type": "code",
   "execution_count": 16,
   "metadata": {},
   "outputs": [
    {
     "data": {
      "text/plain": [
       "(1182, 28)"
      ]
     },
     "execution_count": 16,
     "metadata": {},
     "output_type": "execute_result"
    }
   ],
   "source": [
    "data[data.area_of_shot.isnull()].shape"
   ]
  },
  {
   "cell_type": "code",
   "execution_count": 17,
   "metadata": {},
   "outputs": [
    {
     "name": "stderr",
     "output_type": "stream",
     "text": [
      "/Users/bhavi/anaconda3/lib/python3.6/site-packages/ipykernel_launcher.py:18: SettingWithCopyWarning: \n",
      "A value is trying to be set on a copy of a slice from a DataFrame.\n",
      "Try using .loc[row_indexer,col_indexer] = value instead\n",
      "\n",
      "See the caveats in the documentation: http://pandas.pydata.org/pandas-docs/stable/indexing.html#indexing-view-versus-copy\n"
     ]
    }
   ],
   "source": [
    "def processLowerRangeOfShot(row):\n",
    "    range_of_shot = str(row['range_of_shot'])\n",
    "    try:\n",
    "        if \"Less Than\" in range_of_shot:\n",
    "            return 0, 8\n",
    "        elif \"+\" in range_of_shot:\n",
    "            return 24, 32\n",
    "        else:\n",
    "            low = range_of_shot.split('-')[0]\n",
    "            high = range_of_shot.split('-')[1][0:2]\n",
    "            return low, high\n",
    "    except Exception as e:\n",
    "        return float('NaN'), float('NaN')\n",
    "    \n",
    "    \n",
    "\n",
    "# data['lower_range'] = data.apply(processRangeOfShot, axis=1)\n",
    "data['lower_range'], data['upper_range'] = zip(*data.apply(processLowerRangeOfShot, axis=1))"
   ]
  },
  {
   "cell_type": "code",
   "execution_count": 32,
   "metadata": {},
   "outputs": [],
   "source": [
    "# data[['range_of_shot','lower_range', 'upper_range']]"
   ]
  },
  {
   "cell_type": "code",
   "execution_count": 19,
   "metadata": {},
   "outputs": [
    {
     "name": "stdout",
     "output_type": "stream",
     "text": [
      "(1156, 30) (1025, 1)\n",
      "7.175145074434061 7.4941778026038754\n",
      "(131, 30)\n",
      "(0, 30)\n"
     ]
    },
    {
     "name": "stderr",
     "output_type": "stream",
     "text": [
      "/Users/bhavi/anaconda3/lib/python3.6/site-packages/ipykernel_launcher.py:5: UserWarning: Boolean Series key will be reindexed to match DataFrame index.\n",
      "  \"\"\"\n",
      "/Users/bhavi/anaconda3/lib/python3.6/site-packages/ipykernel_launcher.py:10: UserWarning: Boolean Series key will be reindexed to match DataFrame index.\n",
      "  # Remove the CWD from sys.path while we load stuff.\n",
      "/Users/bhavi/anaconda3/lib/python3.6/site-packages/pandas/core/indexing.py:543: SettingWithCopyWarning: \n",
      "A value is trying to be set on a copy of a slice from a DataFrame.\n",
      "Try using .loc[row_indexer,col_indexer] = value instead\n",
      "\n",
      "See the caveats in the documentation: http://pandas.pydata.org/pandas-docs/stable/indexing.html#indexing-view-versus-copy\n",
      "  self.obj[item] = s\n"
     ]
    }
   ],
   "source": [
    "from sklearn.linear_model import LinearRegression\n",
    "linreg = LinearRegression()\n",
    "\n",
    "sub = data[data.location_x.notnull()]\n",
    "sub = sub[sub.location_y.notnull()][sub.distance_of_shot.notnull()][sub.lower_range.notnull()][sub.upper_range.notnull()]\n",
    "X_train = sub[['location_y', 'distance_of_shot', 'lower_range', 'upper_range']]\n",
    "y_train = sub[['location_x']]\n",
    "\n",
    "sub = data[data.location_x.isnull()]\n",
    "sub = sub[sub.location_y.notnull()][sub.distance_of_shot.notnull()][sub.lower_range.notnull()][sub.upper_range.notnull()]\n",
    "X_test = sub[['location_y', 'distance_of_shot', 'lower_range', 'upper_range']]\n",
    "\n",
    "from sklearn.preprocessing import StandardScaler\n",
    "sc_X = StandardScaler()\n",
    "X_train = sc_X.fit_transform(X_train)\n",
    "X_test = sc_X.transform(X_test)\n",
    "\n",
    "linreg.fit(X_train, y_train)\n",
    "\n",
    "predicted = linreg.predict(X_test)\n",
    "\n",
    "print (data[data.location_x.isnull()].shape, predicted.shape)\n",
    "\n",
    "print (predicted.mean(), data[data.location_x.notnull()]['location_x'].mean())\n",
    "\n",
    "data.loc[data.location_x.isnull() & \\\n",
    "         data.location_y.notnull() & \\\n",
    "        data.distance_of_shot.notnull() & \\\n",
    "        data.lower_range.notnull() & \\\n",
    "        data.upper_range.notnull(), 'location_x'] = predicted \n",
    "\n",
    "print (data[data.location_x.isnull()].shape)\n",
    "data = data.drop(data[data.location_x.isnull()].index)\n",
    "print (data[data.location_x.isnull()].shape)\n"
   ]
  },
  {
   "cell_type": "code",
   "execution_count": 20,
   "metadata": {},
   "outputs": [
    {
     "name": "stderr",
     "output_type": "stream",
     "text": [
      "/Users/bhavi/anaconda3/lib/python3.6/site-packages/ipykernel_launcher.py:5: UserWarning: Boolean Series key will be reindexed to match DataFrame index.\n",
      "  \"\"\"\n"
     ]
    },
    {
     "name": "stdout",
     "output_type": "stream",
     "text": [
      "(21876, 4) (21876, 1)\n",
      "(1182, 30) (1106, 1)\n",
      "90.22201030964915 91.32566187921786\n",
      "(76, 30)\n",
      "(0, 30)\n"
     ]
    },
    {
     "name": "stderr",
     "output_type": "stream",
     "text": [
      "/Users/bhavi/anaconda3/lib/python3.6/site-packages/ipykernel_launcher.py:12: UserWarning: Boolean Series key will be reindexed to match DataFrame index.\n",
      "  if sys.path[0] == '':\n"
     ]
    }
   ],
   "source": [
    "# from sklearn.linear_model import LinearRegression\n",
    "linreg = LinearRegression()\n",
    "\n",
    "sub = data[data.location_y.notnull()]\n",
    "sub = sub[sub.location_x.notnull()][sub.distance_of_shot.notnull()][sub.lower_range.notnull()][sub.upper_range.notnull()]\n",
    "X_train = sub[['location_x', 'distance_of_shot', 'lower_range', 'upper_range']]\n",
    "y_train = sub[['location_y']]\n",
    "\n",
    "print (X_train.shape, y_train.shape)\n",
    "\n",
    "sub = data[data.location_y.isnull()]\n",
    "sub = sub[sub.location_x.notnull()][sub.distance_of_shot.notnull()][sub.lower_range.notnull()][sub.upper_range.notnull()]\n",
    "X_test = sub[['location_x', 'distance_of_shot', 'lower_range', 'upper_range']]\n",
    "\n",
    "# from sklearn.preprocessing import StandardScaler\n",
    "sc_X = StandardScaler()\n",
    "X_train = sc_X.fit_transform(X_train)\n",
    "X_test = sc_X.transform(X_test)\n",
    "\n",
    "linreg.fit(X_train, y_train)\n",
    "\n",
    "predicted = linreg.predict(X_test)\n",
    "\n",
    "print (data[data.location_y.isnull()].shape, predicted.shape)\n",
    "\n",
    "print (predicted.mean(), data[data.location_y.notnull()]['location_y'].mean())\n",
    "\n",
    "data.loc[data.location_y.isnull() & \\\n",
    "         data.location_x.notnull() & \\\n",
    "        data.distance_of_shot.notnull() & \\\n",
    "        data.lower_range.notnull() & \\\n",
    "        data.upper_range.notnull(), 'location_y'] = predicted \n",
    "\n",
    "print (data[data.location_y.isnull()].shape)\n",
    "data = data.drop(data[data.location_y.isnull()].index)\n",
    "print (data[data.location_y.isnull()].shape)"
   ]
  },
  {
   "cell_type": "code",
   "execution_count": 21,
   "metadata": {},
   "outputs": [
    {
     "name": "stdout",
     "output_type": "stream",
     "text": [
      "(21816, 1) (21816, 1)\n",
      "(1238, 30) (1179, 1)\n",
      "4.9091731778536785 4.888400626522799\n",
      "(59, 30)\n",
      "(0, 30)\n"
     ]
    }
   ],
   "source": [
    "# from sklearn.linear_model import LinearRegression\n",
    "linreg = LinearRegression()\n",
    "\n",
    "sub = data[data.remaining_min.notnull()]\n",
    "sub = sub[sub.match_event_id.notnull()]\n",
    "X_train = sub[['match_event_id']]\n",
    "y_train = sub[['remaining_min']]\n",
    "\n",
    "print (X_train.shape, y_train.shape)\n",
    "\n",
    "sub = data[data.remaining_min.isnull()]\n",
    "sub = sub[sub.match_event_id.notnull()]\n",
    "X_test = sub[['match_event_id']]\n",
    "\n",
    "# from sklearn.preprocessing import StandardScaler\n",
    "sc_X = StandardScaler()\n",
    "X_train = sc_X.fit_transform(X_train)\n",
    "X_test = sc_X.transform(X_test)\n",
    "\n",
    "linreg.fit(X_train, y_train)\n",
    "\n",
    "predicted = linreg.predict(X_test)\n",
    "\n",
    "print (data[data.remaining_min.isnull()].shape, predicted.shape)\n",
    "\n",
    "print (predicted.mean(), data[data.remaining_min.notnull()]['remaining_min'].mean())\n",
    "\n",
    "data.loc[data.remaining_min.isnull() & data.match_event_id.notnull(), 'remaining_min'] = predicted \n",
    "\n",
    "print (data[data.remaining_min.isnull()].shape)\n",
    "data = data.drop(data[data.remaining_min.isnull()].index)\n",
    "print (data[data.remaining_min.isnull()].shape)"
   ]
  },
  {
   "cell_type": "code",
   "execution_count": 33,
   "metadata": {},
   "outputs": [],
   "source": [
    "def fillKnockoutMatches(row):\n",
    "    if row.name >= 26198:\n",
    "        return 1\n",
    "    else:\n",
    "        return 0\n",
    "\n",
    "data['knockout_match'] = data.apply(fillKnockoutMatches, axis=1)"
   ]
  },
  {
   "cell_type": "code",
   "execution_count": null,
   "metadata": {},
   "outputs": [],
   "source": []
  }
 ],
 "metadata": {
  "kernelspec": {
   "display_name": "Python 3",
   "language": "python",
   "name": "python3"
  },
  "language_info": {
   "codemirror_mode": {
    "name": "ipython",
    "version": 3
   },
   "file_extension": ".py",
   "mimetype": "text/x-python",
   "name": "python",
   "nbconvert_exporter": "python",
   "pygments_lexer": "ipython3",
   "version": "3.6.5"
  }
 },
 "nbformat": 4,
 "nbformat_minor": 2
}
