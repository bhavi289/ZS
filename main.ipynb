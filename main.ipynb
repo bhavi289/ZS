{
 "cells": [
  {
   "cell_type": "code",
   "execution_count": 2,
   "metadata": {},
   "outputs": [],
   "source": [
    "import numpy as np\n",
    "import pandas as pd\n",
    "import random\n",
    "import matplotlib.pyplot as plt\n",
    "import sys\n",
    "import os\n",
    "from sklearn.metrics import accuracy_score, confusion_matrix, average_precision_score, classification_report\n",
    "from sklearn.metrics import roc_curve, auc"
   ]
  },
  {
   "cell_type": "code",
   "execution_count": 3,
   "metadata": {},
   "outputs": [
    {
     "name": "stdout",
     "output_type": "stream",
     "text": [
      "/Users/bhavi/Documents/Projects/CristianoRonaldo\n"
     ]
    }
   ],
   "source": [
    "!pwd"
   ]
  },
  {
   "cell_type": "code",
   "execution_count": 4,
   "metadata": {},
   "outputs": [],
   "source": [
    "df = pd.read_csv(\"/Users/bhavi/Documents/Projects/CristianoRonaldo/Cristano_Ronaldo_Final_v1/data.csv\")"
   ]
  },
  {
   "cell_type": "code",
   "execution_count": 5,
   "metadata": {},
   "outputs": [
    {
     "data": {
      "text/html": [
       "<div>\n",
       "<style scoped>\n",
       "    .dataframe tbody tr th:only-of-type {\n",
       "        vertical-align: middle;\n",
       "    }\n",
       "\n",
       "    .dataframe tbody tr th {\n",
       "        vertical-align: top;\n",
       "    }\n",
       "\n",
       "    .dataframe thead th {\n",
       "        text-align: right;\n",
       "    }\n",
       "</style>\n",
       "<table border=\"1\" class=\"dataframe\">\n",
       "  <thead>\n",
       "    <tr style=\"text-align: right;\">\n",
       "      <th></th>\n",
       "      <th>Unnamed: 0</th>\n",
       "      <th>match_event_id</th>\n",
       "      <th>location_x</th>\n",
       "      <th>location_y</th>\n",
       "      <th>remaining_min</th>\n",
       "      <th>power_of_shot</th>\n",
       "      <th>knockout_match</th>\n",
       "      <th>remaining_sec</th>\n",
       "      <th>distance_of_shot</th>\n",
       "      <th>is_goal</th>\n",
       "      <th>shot_id_number</th>\n",
       "      <th>match_id</th>\n",
       "      <th>team_id</th>\n",
       "      <th>remaining_min.1</th>\n",
       "      <th>power_of_shot.1</th>\n",
       "      <th>knockout_match.1</th>\n",
       "      <th>remaining_sec.1</th>\n",
       "      <th>distance_of_shot.1</th>\n",
       "    </tr>\n",
       "  </thead>\n",
       "  <tbody>\n",
       "    <tr>\n",
       "      <th>count</th>\n",
       "      <td>30697.000000</td>\n",
       "      <td>29134.000000</td>\n",
       "      <td>29236.000000</td>\n",
       "      <td>29157.000000</td>\n",
       "      <td>29135.000000</td>\n",
       "      <td>29211.000000</td>\n",
       "      <td>29180.000000</td>\n",
       "      <td>29103.000000</td>\n",
       "      <td>29130.000000</td>\n",
       "      <td>24429.000000</td>\n",
       "      <td>29134.000000</td>\n",
       "      <td>3.069700e+04</td>\n",
       "      <td>3.069700e+04</td>\n",
       "      <td>29162.000000</td>\n",
       "      <td>29158.000000</td>\n",
       "      <td>29204.000000</td>\n",
       "      <td>29158.000000</td>\n",
       "      <td>29129.000000</td>\n",
       "    </tr>\n",
       "    <tr>\n",
       "      <th>mean</th>\n",
       "      <td>15348.000000</td>\n",
       "      <td>249.576028</td>\n",
       "      <td>7.383876</td>\n",
       "      <td>91.126933</td>\n",
       "      <td>4.883233</td>\n",
       "      <td>2.519359</td>\n",
       "      <td>0.145956</td>\n",
       "      <td>28.329382</td>\n",
       "      <td>33.448884</td>\n",
       "      <td>0.445331</td>\n",
       "      <td>15368.581039</td>\n",
       "      <td>2.476407e+07</td>\n",
       "      <td>1.610613e+09</td>\n",
       "      <td>18.204615</td>\n",
       "      <td>15.994109</td>\n",
       "      <td>16.599402</td>\n",
       "      <td>39.027303</td>\n",
       "      <td>38.801852</td>\n",
       "    </tr>\n",
       "    <tr>\n",
       "      <th>std</th>\n",
       "      <td>8861.604943</td>\n",
       "      <td>150.186019</td>\n",
       "      <td>110.263049</td>\n",
       "      <td>87.676395</td>\n",
       "      <td>3.452533</td>\n",
       "      <td>1.153976</td>\n",
       "      <td>0.353068</td>\n",
       "      <td>17.470663</td>\n",
       "      <td>9.369656</td>\n",
       "      <td>0.497013</td>\n",
       "      <td>8866.520772</td>\n",
       "      <td>7.755175e+06</td>\n",
       "      <td>0.000000e+00</td>\n",
       "      <td>29.416973</td>\n",
       "      <td>29.676815</td>\n",
       "      <td>35.172016</td>\n",
       "      <td>29.835284</td>\n",
       "      <td>18.787711</td>\n",
       "    </tr>\n",
       "    <tr>\n",
       "      <th>min</th>\n",
       "      <td>0.000000</td>\n",
       "      <td>2.000000</td>\n",
       "      <td>-250.000000</td>\n",
       "      <td>-44.000000</td>\n",
       "      <td>0.000000</td>\n",
       "      <td>1.000000</td>\n",
       "      <td>0.000000</td>\n",
       "      <td>0.000000</td>\n",
       "      <td>20.000000</td>\n",
       "      <td>0.000000</td>\n",
       "      <td>1.000000</td>\n",
       "      <td>2.000001e+07</td>\n",
       "      <td>1.610613e+09</td>\n",
       "      <td>0.000000</td>\n",
       "      <td>1.000000</td>\n",
       "      <td>0.000000</td>\n",
       "      <td>0.000000</td>\n",
       "      <td>9.400000</td>\n",
       "    </tr>\n",
       "    <tr>\n",
       "      <th>25%</th>\n",
       "      <td>7674.000000</td>\n",
       "      <td>111.000000</td>\n",
       "      <td>-68.000000</td>\n",
       "      <td>4.000000</td>\n",
       "      <td>2.000000</td>\n",
       "      <td>1.000000</td>\n",
       "      <td>0.000000</td>\n",
       "      <td>13.000000</td>\n",
       "      <td>25.000000</td>\n",
       "      <td>0.000000</td>\n",
       "      <td>7693.250000</td>\n",
       "      <td>2.050008e+07</td>\n",
       "      <td>1.610613e+09</td>\n",
       "      <td>3.000000</td>\n",
       "      <td>2.000000</td>\n",
       "      <td>0.000000</td>\n",
       "      <td>17.000000</td>\n",
       "      <td>26.000000</td>\n",
       "    </tr>\n",
       "    <tr>\n",
       "      <th>50%</th>\n",
       "      <td>15348.000000</td>\n",
       "      <td>254.000000</td>\n",
       "      <td>0.000000</td>\n",
       "      <td>74.000000</td>\n",
       "      <td>5.000000</td>\n",
       "      <td>3.000000</td>\n",
       "      <td>0.000000</td>\n",
       "      <td>28.000000</td>\n",
       "      <td>35.000000</td>\n",
       "      <td>0.000000</td>\n",
       "      <td>15378.500000</td>\n",
       "      <td>2.090035e+07</td>\n",
       "      <td>1.610613e+09</td>\n",
       "      <td>6.000000</td>\n",
       "      <td>3.000000</td>\n",
       "      <td>0.000000</td>\n",
       "      <td>35.000000</td>\n",
       "      <td>36.000000</td>\n",
       "    </tr>\n",
       "    <tr>\n",
       "      <th>75%</th>\n",
       "      <td>23022.000000</td>\n",
       "      <td>369.000000</td>\n",
       "      <td>95.000000</td>\n",
       "      <td>160.000000</td>\n",
       "      <td>8.000000</td>\n",
       "      <td>3.000000</td>\n",
       "      <td>0.000000</td>\n",
       "      <td>43.000000</td>\n",
       "      <td>41.000000</td>\n",
       "      <td>1.000000</td>\n",
       "      <td>23055.750000</td>\n",
       "      <td>2.960047e+07</td>\n",
       "      <td>1.610613e+09</td>\n",
       "      <td>11.000000</td>\n",
       "      <td>4.000000</td>\n",
       "      <td>1.000000</td>\n",
       "      <td>52.000000</td>\n",
       "      <td>44.000000</td>\n",
       "    </tr>\n",
       "    <tr>\n",
       "      <th>max</th>\n",
       "      <td>30696.000000</td>\n",
       "      <td>659.000000</td>\n",
       "      <td>248.000000</td>\n",
       "      <td>791.000000</td>\n",
       "      <td>11.000000</td>\n",
       "      <td>7.000000</td>\n",
       "      <td>1.000000</td>\n",
       "      <td>59.000000</td>\n",
       "      <td>99.000000</td>\n",
       "      <td>1.000000</td>\n",
       "      <td>30697.000000</td>\n",
       "      <td>4.990009e+07</td>\n",
       "      <td>1.610613e+09</td>\n",
       "      <td>128.761600</td>\n",
       "      <td>118.360000</td>\n",
       "      <td>141.352320</td>\n",
       "      <td>144.785600</td>\n",
       "      <td>115.728000</td>\n",
       "    </tr>\n",
       "  </tbody>\n",
       "</table>\n",
       "</div>"
      ],
      "text/plain": [
       "         Unnamed: 0  match_event_id    location_x    location_y  \\\n",
       "count  30697.000000    29134.000000  29236.000000  29157.000000   \n",
       "mean   15348.000000      249.576028      7.383876     91.126933   \n",
       "std     8861.604943      150.186019    110.263049     87.676395   \n",
       "min        0.000000        2.000000   -250.000000    -44.000000   \n",
       "25%     7674.000000      111.000000    -68.000000      4.000000   \n",
       "50%    15348.000000      254.000000      0.000000     74.000000   \n",
       "75%    23022.000000      369.000000     95.000000    160.000000   \n",
       "max    30696.000000      659.000000    248.000000    791.000000   \n",
       "\n",
       "       remaining_min  power_of_shot  knockout_match  remaining_sec  \\\n",
       "count   29135.000000   29211.000000    29180.000000   29103.000000   \n",
       "mean        4.883233       2.519359        0.145956      28.329382   \n",
       "std         3.452533       1.153976        0.353068      17.470663   \n",
       "min         0.000000       1.000000        0.000000       0.000000   \n",
       "25%         2.000000       1.000000        0.000000      13.000000   \n",
       "50%         5.000000       3.000000        0.000000      28.000000   \n",
       "75%         8.000000       3.000000        0.000000      43.000000   \n",
       "max        11.000000       7.000000        1.000000      59.000000   \n",
       "\n",
       "       distance_of_shot       is_goal  shot_id_number      match_id  \\\n",
       "count      29130.000000  24429.000000    29134.000000  3.069700e+04   \n",
       "mean          33.448884      0.445331    15368.581039  2.476407e+07   \n",
       "std            9.369656      0.497013     8866.520772  7.755175e+06   \n",
       "min           20.000000      0.000000        1.000000  2.000001e+07   \n",
       "25%           25.000000      0.000000     7693.250000  2.050008e+07   \n",
       "50%           35.000000      0.000000    15378.500000  2.090035e+07   \n",
       "75%           41.000000      1.000000    23055.750000  2.960047e+07   \n",
       "max           99.000000      1.000000    30697.000000  4.990009e+07   \n",
       "\n",
       "            team_id  remaining_min.1  power_of_shot.1  knockout_match.1  \\\n",
       "count  3.069700e+04     29162.000000     29158.000000      29204.000000   \n",
       "mean   1.610613e+09        18.204615        15.994109         16.599402   \n",
       "std    0.000000e+00        29.416973        29.676815         35.172016   \n",
       "min    1.610613e+09         0.000000         1.000000          0.000000   \n",
       "25%    1.610613e+09         3.000000         2.000000          0.000000   \n",
       "50%    1.610613e+09         6.000000         3.000000          0.000000   \n",
       "75%    1.610613e+09        11.000000         4.000000          1.000000   \n",
       "max    1.610613e+09       128.761600       118.360000        141.352320   \n",
       "\n",
       "       remaining_sec.1  distance_of_shot.1  \n",
       "count     29158.000000        29129.000000  \n",
       "mean         39.027303           38.801852  \n",
       "std          29.835284           18.787711  \n",
       "min           0.000000            9.400000  \n",
       "25%          17.000000           26.000000  \n",
       "50%          35.000000           36.000000  \n",
       "75%          52.000000           44.000000  \n",
       "max         144.785600          115.728000  "
      ]
     },
     "execution_count": 5,
     "metadata": {},
     "output_type": "execute_result"
    }
   ],
   "source": [
    "df.describe()"
   ]
  },
  {
   "cell_type": "code",
   "execution_count": 6,
   "metadata": {},
   "outputs": [
    {
     "data": {
      "text/plain": [
       "(0, 28)"
      ]
     },
     "execution_count": 6,
     "metadata": {},
     "output_type": "execute_result"
    }
   ],
   "source": [
    "df = df.rename(columns={'distance_of_shot.1': 'distance_of_shot_1', \\\n",
    "                        'remaining_min.1':'remaining_min_1', \\\n",
    "                        'power_of_shot.1':'power_of_shot_1', \\\n",
    "                        'knockout_match.1' : 'knockout_match_1', \\\n",
    "                        'remaining_sec.1' : 'remaining_sec_1'})\n",
    "\n",
    "df[df.match_id.isnull()].shape"
   ]
  },
  {
   "cell_type": "code",
   "execution_count": null,
   "metadata": {},
   "outputs": [],
   "source": []
  },
  {
   "cell_type": "code",
   "execution_count": 7,
   "metadata": {},
   "outputs": [],
   "source": [
    "def fillKnockoutMatches(row):\n",
    "    if row.name >= 26198:\n",
    "        return 1\n",
    "    else:\n",
    "        return 0\n",
    "\n",
    "df['knockout_match'] = df.apply(fillKnockoutMatches, axis=1)"
   ]
  },
  {
   "cell_type": "code",
   "execution_count": 8,
   "metadata": {},
   "outputs": [
    {
     "ename": "SyntaxError",
     "evalue": "invalid syntax (<ipython-input-8-2a0a0c66077a>, line 2)",
     "output_type": "error",
     "traceback": [
      "\u001b[0;36m  File \u001b[0;32m\"<ipython-input-8-2a0a0c66077a>\"\u001b[0;36m, line \u001b[0;32m2\u001b[0m\n\u001b[0;31m    lambda row: row['distance_of_shot_1'] if np.isnanBhavi Chawla(row['distance_of_shot']) and (row['distance_of_shot_1']).is_integer() else row['distance_of_shot'],\u001b[0m\n\u001b[0m                                                                ^\u001b[0m\n\u001b[0;31mSyntaxError\u001b[0m\u001b[0;31m:\u001b[0m invalid syntax\n"
     ]
    }
   ],
   "source": [
    "df['distance_of_shot'] = df.apply(\n",
    "    lambda row: row['distance_of_shot_1'] if np.isnanBhavi Chawla(row['distance_of_shot']) and (row['distance_of_shot_1']).is_integer() else row['distance_of_shot'],\n",
    "    axis=1\n",
    ")"
   ]
  },
  {
   "cell_type": "code",
   "execution_count": 9,
   "metadata": {},
   "outputs": [],
   "source": [
    "def findArea(x):\n",
    "    if type(x) == float and np.isnan(x):\n",
    "        return x\n",
    "    else:\n",
    "        return x.split('(')[1].split(')')[0]\n",
    "\n",
    "df[\"area_of_shot\"] = df[\"area_of_shot\"].apply(findArea)"
   ]
  },
  {
   "cell_type": "code",
   "execution_count": 10,
   "metadata": {},
   "outputs": [],
   "source": [
    "def processLowerRangeOfShot(row):\n",
    "    range_of_shot = str(row['range_of_shot'])\n",
    "    try:\n",
    "        if \"Less Than\" in range_of_shot:\n",
    "            return 0, 8\n",
    "        elif \"+\" in range_of_shot:\n",
    "            return 24, 32\n",
    "        else:\n",
    "            low = range_of_shot.split('-')[0]\n",
    "            high = range_of_shot.split('-')[1][0:2]\n",
    "            return low, high\n",
    "    except Exception as e:\n",
    "        return float('NaN'), float('NaN')\n",
    "    \n",
    "df['lower_range'], df['upper_range'] = zip(*df.apply(processLowerRangeOfShot, axis=1))"
   ]
  },
  {
   "cell_type": "code",
   "execution_count": 11,
   "metadata": {},
   "outputs": [],
   "source": [
    "# data[data.location_x.isnull()].shape, data[data.location_y.isnull()].shape, data[data.distance_of_shot.isnull()].shape, data[data.range_of_shot.isnull()].shape"
   ]
  },
  {
   "cell_type": "code",
   "execution_count": 12,
   "metadata": {},
   "outputs": [
    {
     "name": "stdout",
     "output_type": "stream",
     "text": [
      "'Unnamed: 0','match_event_id','location_x','location_y','remaining_min','power_of_shot','knockout_match','game_season','remaining_sec','distance_of_shot','is_goal','area_of_shot','shot_basics','range_of_shot','team_name','date_of_game','home/away','shot_id_number','lat/lng','type_of_shot','type_of_combined_shot','match_id','team_id','remaining_min_1','power_of_shot_1','knockout_match_1','remaining_sec_1','distance_of_shot_1','lower_range','upper_range',"
     ]
    }
   ],
   "source": [
    "for col in df.columns:\n",
    "    print (f\"'{col}'\", end=',')"
   ]
  },
  {
   "cell_type": "code",
   "execution_count": 13,
   "metadata": {},
   "outputs": [],
   "source": [
    "def linearRegressionForLocation_X(data):    \n",
    "    from sklearn.linear_model import LinearRegression\n",
    "    linreg = LinearRegression()\n",
    "\n",
    "    sub = data[data.location_x.notnull()]\n",
    "    sub = sub[sub.location_y.notnull()][sub.distance_of_shot.notnull()][sub.lower_range.notnull()][sub.upper_range.notnull()]\n",
    "    X_train = sub[['location_y', 'distance_of_shot', 'lower_range', 'upper_range']]\n",
    "    y_train = sub[['location_x']]\n",
    "\n",
    "    sub = data[data.location_x.isnull()]\n",
    "    sub = sub[sub.location_y.notnull()][sub.distance_of_shot.notnull()][sub.lower_range.notnull()][sub.upper_range.notnull()]\n",
    "    X_test = sub[['location_y', 'distance_of_shot', 'lower_range', 'upper_range']]\n",
    "\n",
    "    from sklearn.preprocessing import StandardScaler\n",
    "    sc_X = StandardScaler()\n",
    "    X_train = sc_X.fit_transform(X_train)\n",
    "    X_test = sc_X.transform(X_test)\n",
    "\n",
    "    linreg.fit(X_train, y_train)\n",
    "\n",
    "    predicted = linreg.predict(X_test)\n",
    "\n",
    "    print (data[data.location_x.isnull()].shape, predicted.shape)\n",
    "\n",
    "    print (predicted.mean(), data[data.location_x.notnull()]['location_x'].mean())\n",
    "\n",
    "    data.loc[data.location_x.isnull() & \\\n",
    "             data.location_y.notnull() & \\\n",
    "            data.distance_of_shot.notnull() & \\\n",
    "            data.lower_range.notnull() & \\\n",
    "            data.upper_range.notnull(), 'location_x'] = predicted \n",
    "    \n",
    "    return data\n"
   ]
  },
  {
   "cell_type": "code",
   "execution_count": 14,
   "metadata": {},
   "outputs": [
    {
     "name": "stdout",
     "output_type": "stream",
     "text": [
      "(1461, 30)\n",
      "(1461, 30) (1238, 1)\n",
      "7.047634570963861 7.383876043234369\n",
      "(223, 30)\n",
      "(223, 30)\n"
     ]
    },
    {
     "name": "stderr",
     "output_type": "stream",
     "text": [
      "/Users/bhavi/anaconda3/lib/python3.6/site-packages/ipykernel_launcher.py:6: UserWarning: Boolean Series key will be reindexed to match DataFrame index.\n",
      "  \n",
      "/Users/bhavi/anaconda3/lib/python3.6/site-packages/ipykernel_launcher.py:11: UserWarning: Boolean Series key will be reindexed to match DataFrame index.\n",
      "  # This is added back by InteractiveShellApp.init_path()\n"
     ]
    }
   ],
   "source": [
    "print (df[df.location_x.isnull()].shape)\n",
    "df = linearRegressionForLocation_X(df.copy())\n",
    "print (df[df.location_x.isnull()].shape)\n",
    "# df = df.drop(df[df.location_x.isnull()].index)\n",
    "print (df[df.location_x.isnull()].shape)"
   ]
  },
  {
   "cell_type": "code",
   "execution_count": 15,
   "metadata": {},
   "outputs": [],
   "source": [
    "def linearRegressionForLocation_Y(data):\n",
    "    from sklearn.linear_model import LinearRegression\n",
    "\n",
    "    linreg = LinearRegression()\n",
    "\n",
    "    sub = data[data.location_y.notnull()]\n",
    "    sub = sub[sub.location_x.notnull()][sub.distance_of_shot.notnull()][sub.lower_range.notnull()][sub.upper_range.notnull()]\n",
    "    X_train = sub[['location_x', 'distance_of_shot', 'lower_range', 'upper_range']]\n",
    "    y_train = sub[['location_y']]\n",
    "\n",
    "    print (X_train.shape, y_train.shape)\n",
    "\n",
    "    sub = data[data.location_y.isnull()]\n",
    "    sub = sub[sub.location_x.notnull()][sub.distance_of_shot.notnull()][sub.lower_range.notnull()][sub.upper_range.notnull()]\n",
    "    X_test = sub[['location_x', 'distance_of_shot', 'lower_range', 'upper_range']]\n",
    "\n",
    "    from sklearn.preprocessing import StandardScaler\n",
    "    sc_X = StandardScaler()\n",
    "    X_train = sc_X.fit_transform(X_train)\n",
    "    X_test = sc_X.transform(X_test)\n",
    "\n",
    "    linreg.fit(X_train, y_train)\n",
    "\n",
    "    predicted = linreg.predict(X_test)\n",
    "\n",
    "    print (data[data.location_y.isnull()].shape, predicted.shape)\n",
    "\n",
    "    print (predicted.mean(), data[data.location_y.notnull()]['location_y'].mean())\n",
    "\n",
    "    data.loc[data.location_y.isnull() & \\\n",
    "             data.location_x.notnull() & \\\n",
    "            data.distance_of_shot.notnull() & \\\n",
    "            data.lower_range.notnull() & \\\n",
    "            data.upper_range.notnull(), 'location_y'] = predicted \n",
    "    return data\n",
    "\n",
    "    "
   ]
  },
  {
   "cell_type": "code",
   "execution_count": 16,
   "metadata": {},
   "outputs": [
    {
     "name": "stdout",
     "output_type": "stream",
     "text": [
      "(26216, 4) (26216, 1)\n",
      "(1540, 30) (1294, 1)\n",
      "91.08338651706153 91.12693349795933\n",
      "(246, 30)\n",
      "(246, 30)\n"
     ]
    },
    {
     "name": "stderr",
     "output_type": "stream",
     "text": [
      "/Users/bhavi/anaconda3/lib/python3.6/site-packages/ipykernel_launcher.py:7: UserWarning: Boolean Series key will be reindexed to match DataFrame index.\n",
      "  import sys\n",
      "/Users/bhavi/anaconda3/lib/python3.6/site-packages/ipykernel_launcher.py:14: UserWarning: Boolean Series key will be reindexed to match DataFrame index.\n",
      "  \n"
     ]
    }
   ],
   "source": [
    "df = linearRegressionForLocation_Y(df.copy())\n",
    "print (df[df.location_y.isnull()].shape)\n",
    "# df = df.drop(df[df.location_y.isnull()].index)\n",
    "print (df[df.location_y.isnull()].shape)"
   ]
  },
  {
   "cell_type": "code",
   "execution_count": 17,
   "metadata": {},
   "outputs": [],
   "source": [
    "def linearRegressionForTimeRemaining(data):\n",
    "    from sklearn.linear_model import LinearRegression\n",
    "    linreg = LinearRegression()\n",
    "\n",
    "    sub = data[data.remaining_min.notnull()]\n",
    "    sub = sub[sub.match_event_id.notnull()]\n",
    "    X_train = sub[['match_event_id']]\n",
    "    y_train = sub[['remaining_min']]\n",
    "\n",
    "    print (X_train.shape, y_train.shape)\n",
    "\n",
    "    sub = data[data.remaining_min.isnull()]\n",
    "    sub = sub[sub.match_event_id.notnull()]\n",
    "    X_test = sub[['match_event_id']]\n",
    "\n",
    "    from sklearn.preprocessing import StandardScaler\n",
    "    sc_X = StandardScaler()\n",
    "    X_train = sc_X.fit_transform(X_train)\n",
    "    X_test = sc_X.transform(X_test)\n",
    "\n",
    "    linreg.fit(X_train, y_train)\n",
    "\n",
    "    predicted = linreg.predict(X_test)\n",
    "\n",
    "    print (data[data.remaining_min.isnull()].shape, predicted.shape)\n",
    "\n",
    "    print (predicted.mean(), data[data.remaining_min.notnull()]['remaining_min'].mean())\n",
    "\n",
    "    data.loc[data.remaining_min.isnull() & data.match_event_id.notnull(), 'remaining_min'] = predicted \n",
    "    \n",
    "    return data"
   ]
  },
  {
   "cell_type": "code",
   "execution_count": 18,
   "metadata": {},
   "outputs": [
    {
     "name": "stdout",
     "output_type": "stream",
     "text": [
      "(27651, 1) (27651, 1)\n",
      "(1562, 30) (1483, 1)\n",
      "4.913381935144411 4.883233224643899\n",
      "(79, 30)\n",
      "(79, 30)\n"
     ]
    }
   ],
   "source": [
    "df = linearRegressionForTimeRemaining(df.copy())\n",
    "print (df[df.remaining_min.isnull()].shape)\n",
    "# df = df.drop(df[df.remaining_min.isnull()].index)\n",
    "print (df[df.remaining_min.isnull()].shape)"
   ]
  },
  {
   "cell_type": "code",
   "execution_count": 19,
   "metadata": {},
   "outputs": [],
   "source": [
    "df['area_of_shot'].fillna(df['area_of_shot'].mode()[0], inplace=True)\n",
    "df['area_of_shot'] = df['area_of_shot'].astype('category').cat.codes\n",
    "\n",
    "df['shot_basics'].fillna(df['shot_basics'].mode()[0], inplace=True)\n",
    "df['shot_basics'] = df['shot_basics'].astype('category').cat.codes\n",
    "\n",
    "df['distance_of_shot'].fillna(df['distance_of_shot'].mean(), inplace=True)\n",
    "\n",
    "df['lower_range'].fillna(df['lower_range'].mode()[0], inplace=True)\n",
    "df['upper_range'].fillna(df['upper_range'].mode()[0], inplace=True)\n",
    "\n",
    "df['type_of_shot'].fillna(df['type_of_shot'].mode()[0], inplace=True)\n",
    "df['type_of_combined_shot'].fillna(df['type_of_combined_shot'].mode()[0], inplace=True)\n",
    "\n",
    "df['type_of_shot'] = df['type_of_shot'].astype('category').cat.codes\n",
    "df['type_of_combined_shot'] = df['type_of_combined_shot'].astype('category').cat.codes\n",
    "\n",
    "df['location_x'].fillna(df['location_x'].mean(), inplace=True)\n",
    "df['location_y'].fillna(df['location_y'].mean(), inplace=True)\n",
    "df['remaining_min'].fillna(df['remaining_min'].mean(), inplace=True)\n",
    "df['power_of_shot'].fillna(df['power_of_shot'].mode()[0], inplace=True)"
   ]
  },
  {
   "cell_type": "code",
   "execution_count": 20,
   "metadata": {},
   "outputs": [
    {
     "name": "stdout",
     "output_type": "stream",
     "text": [
      "'Unnamed: 0','match_event_id','location_x','location_y','remaining_min','power_of_shot','knockout_match','game_season','remaining_sec','distance_of_shot','is_goal','area_of_shot','shot_basics','range_of_shot','team_name','date_of_game','home/away','shot_id_number','lat/lng','type_of_shot','type_of_combined_shot','match_id','team_id','remaining_min_1','power_of_shot_1','knockout_match_1','remaining_sec_1','distance_of_shot_1','lower_range','upper_range',"
     ]
    }
   ],
   "source": [
    "for col in df.columns:\n",
    "    print (f\"'{col}'\", end=',')"
   ]
  },
  {
   "cell_type": "code",
   "execution_count": 21,
   "metadata": {},
   "outputs": [
    {
     "name": "stdout",
     "output_type": "stream",
     "text": [
      "(1563, 30) (0, 30) (0, 30) (0, 30) (0, 30) (0, 30) (0, 30) (0, 30) (0, 30) (0, 30) (0, 30) (0, 30) (0, 30)\n"
     ]
    }
   ],
   "source": [
    "print (df[df.match_event_id.isnull()].shape,\\\n",
    "       df[df.location_x.isnull()].shape,\\\n",
    "       df[df.location_y.isnull()].shape,\\\n",
    "       df[df.remaining_min.isnull()].shape,\\\n",
    "       df[df.power_of_shot.isnull()].shape,\\\n",
    "       df[df.knockout_match.isnull()].shape,\\\n",
    "       df[df.distance_of_shot.isnull()].shape,\\\n",
    "       df[df.area_of_shot.isnull()].shape,\\\n",
    "       df[df.shot_basics.isnull()].shape,\\\n",
    "       df[df.lower_range.isnull()].shape,\\\n",
    "       df[df.upper_range.isnull()].shape,\\\n",
    "       df[df.type_of_shot.isnull()].shape,\\\n",
    "       df[df.type_of_combined_shot.isnull()].shape)"
   ]
  },
  {
   "cell_type": "code",
   "execution_count": 22,
   "metadata": {},
   "outputs": [],
   "source": [
    "old_df = df.copy()"
   ]
  },
  {
   "cell_type": "code",
   "execution_count": 48,
   "metadata": {},
   "outputs": [],
   "source": [
    "df = old_df.copy()"
   ]
  },
  {
   "cell_type": "code",
   "execution_count": 24,
   "metadata": {},
   "outputs": [
    {
     "name": "stdout",
     "output_type": "stream",
     "text": [
      "'Unnamed: 0','match_event_id','location_x','location_y','remaining_min','knockout_match','game_season','remaining_sec','distance_of_shot','is_goal','range_of_shot','team_name','date_of_game','home/away','shot_id_number','lat/lng','match_id','team_id','remaining_min_1','power_of_shot_1','knockout_match_1','remaining_sec_1','distance_of_shot_1','power_of_shot_1_0','power_of_shot_2_0','power_of_shot_3_0','power_of_shot_4_0','power_of_shot_5_0','power_of_shot_6_0','power_of_shot_7_0','area_of_shot_0','area_of_shot_1','area_of_shot_2','area_of_shot_3','area_of_shot_4','area_of_shot_5','shot_basics_0','shot_basics_1','shot_basics_2','shot_basics_3','shot_basics_4','shot_basics_5','shot_basics_6','lower_range_0','lower_range_24','lower_range_16','lower_range_8','upper_range_8','upper_range_32','upper_range_16','upper_range_24','type_of_shot_0','type_of_shot_1','type_of_shot_2','type_of_shot_3','type_of_shot_4','type_of_shot_5','type_of_shot_6','type_of_shot_7','type_of_shot_8','type_of_shot_9','type_of_shot_10','type_of_shot_11','type_of_shot_12','type_of_shot_13','type_of_shot_14','type_of_shot_15','type_of_shot_16','type_of_shot_17','type_of_shot_18','type_of_shot_19','type_of_shot_20','type_of_shot_21','type_of_shot_22','type_of_shot_23','type_of_shot_24','type_of_shot_25','type_of_shot_26','type_of_shot_27','type_of_shot_28','type_of_shot_29','type_of_shot_30','type_of_shot_31','type_of_shot_32','type_of_shot_33','type_of_shot_34','type_of_shot_35','type_of_shot_36','type_of_shot_37','type_of_shot_38','type_of_shot_39','type_of_shot_40','type_of_shot_41','type_of_shot_42','type_of_shot_43','type_of_shot_44','type_of_shot_45','type_of_shot_46','type_of_shot_47','type_of_shot_48','type_of_shot_49','type_of_shot_50','type_of_shot_51','type_of_shot_52','type_of_shot_53','type_of_shot_54','type_of_shot_55','type_of_shot_56','type_of_combined_shot_0','type_of_combined_shot_1','type_of_combined_shot_2','type_of_combined_shot_3','type_of_combined_shot_4','type_of_combined_shot_5',"
     ]
    }
   ],
   "source": [
    "\n",
    "encoded = pd.get_dummies(data=df,columns = ['power_of_shot', 'area_of_shot', 'shot_basics', \\\n",
    "                                            'lower_range', 'upper_range', 'type_of_shot', \\\n",
    "                                            'type_of_combined_shot'])\n",
    "encoded.columns = encoded.columns.str.replace(\".\", \"_\")\n",
    "\n",
    "for col in encoded.columns:\n",
    "    print (f\"'{col}'\", end=',')\n",
    "df = encoded"
   ]
  },
  {
   "cell_type": "code",
   "execution_count": 49,
   "metadata": {},
   "outputs": [
    {
     "data": {
      "text/plain": [
       "(30697, 30)"
      ]
     },
     "execution_count": 49,
     "metadata": {},
     "output_type": "execute_result"
    }
   ],
   "source": [
    "df.shape"
   ]
  },
  {
   "cell_type": "code",
   "execution_count": 50,
   "metadata": {},
   "outputs": [
    {
     "data": {
      "text/plain": [
       "((30697, 30), (24429, 30), (6268, 30))"
      ]
     },
     "execution_count": 50,
     "metadata": {},
     "output_type": "execute_result"
    }
   ],
   "source": [
    "submission = df[df.is_goal.isnull()]\n",
    "submission = submission.copy()\n",
    "submission.loc[:, 'shot_id_number'] = submission.index + 1\n",
    "\n",
    "submission.to_csv(\"TestData.csv\", index=False)\n",
    "data = df[df.is_goal.notnull()]\n",
    "df.shape, data.shape, submission.shape"
   ]
  },
  {
   "cell_type": "code",
   "execution_count": 61,
   "metadata": {},
   "outputs": [
    {
     "ename": "ValueError",
     "evalue": "Input contains NaN, infinity or a value too large for dtype('float64').",
     "output_type": "error",
     "traceback": [
      "\u001b[0;31m---------------------------------------------------------------------------\u001b[0m",
      "\u001b[0;31mValueError\u001b[0m                                Traceback (most recent call last)",
      "\u001b[0;32m<ipython-input-61-9866e07cc7f0>\u001b[0m in \u001b[0;36m<module>\u001b[0;34m()\u001b[0m\n\u001b[1;32m      8\u001b[0m \u001b[0;31m# feature extraction\u001b[0m\u001b[0;34m\u001b[0m\u001b[0;34m\u001b[0m\u001b[0m\n\u001b[1;32m      9\u001b[0m \u001b[0mtest\u001b[0m \u001b[0;34m=\u001b[0m \u001b[0mSelectKBest\u001b[0m\u001b[0;34m(\u001b[0m\u001b[0mscore_func\u001b[0m\u001b[0;34m=\u001b[0m\u001b[0mchi2\u001b[0m\u001b[0;34m,\u001b[0m \u001b[0mk\u001b[0m\u001b[0;34m=\u001b[0m\u001b[0;36m6\u001b[0m\u001b[0;34m)\u001b[0m\u001b[0;34m\u001b[0m\u001b[0m\n\u001b[0;32m---> 10\u001b[0;31m \u001b[0mfit\u001b[0m \u001b[0;34m=\u001b[0m \u001b[0mtest\u001b[0m\u001b[0;34m.\u001b[0m\u001b[0mfit\u001b[0m\u001b[0;34m(\u001b[0m\u001b[0mx\u001b[0m\u001b[0;34m,\u001b[0m \u001b[0my\u001b[0m\u001b[0;34m)\u001b[0m\u001b[0;34m\u001b[0m\u001b[0m\n\u001b[0m\u001b[1;32m     11\u001b[0m \u001b[0;31m# summarize scores\u001b[0m\u001b[0;34m\u001b[0m\u001b[0;34m\u001b[0m\u001b[0m\n\u001b[1;32m     12\u001b[0m \u001b[0mnp\u001b[0m\u001b[0;34m.\u001b[0m\u001b[0mset_printoptions\u001b[0m\u001b[0;34m(\u001b[0m\u001b[0mprecision\u001b[0m\u001b[0;34m=\u001b[0m\u001b[0;36m3\u001b[0m\u001b[0;34m)\u001b[0m\u001b[0;34m\u001b[0m\u001b[0m\n",
      "\u001b[0;32m~/anaconda3/lib/python3.6/site-packages/sklearn/feature_selection/univariate_selection.py\u001b[0m in \u001b[0;36mfit\u001b[0;34m(self, X, y)\u001b[0m\n\u001b[1;32m    339\u001b[0m         \u001b[0mself\u001b[0m \u001b[0;34m:\u001b[0m \u001b[0mobject\u001b[0m\u001b[0;34m\u001b[0m\u001b[0m\n\u001b[1;32m    340\u001b[0m         \"\"\"\n\u001b[0;32m--> 341\u001b[0;31m         \u001b[0mX\u001b[0m\u001b[0;34m,\u001b[0m \u001b[0my\u001b[0m \u001b[0;34m=\u001b[0m \u001b[0mcheck_X_y\u001b[0m\u001b[0;34m(\u001b[0m\u001b[0mX\u001b[0m\u001b[0;34m,\u001b[0m \u001b[0my\u001b[0m\u001b[0;34m,\u001b[0m \u001b[0;34m[\u001b[0m\u001b[0;34m'csr'\u001b[0m\u001b[0;34m,\u001b[0m \u001b[0;34m'csc'\u001b[0m\u001b[0;34m]\u001b[0m\u001b[0;34m,\u001b[0m \u001b[0mmulti_output\u001b[0m\u001b[0;34m=\u001b[0m\u001b[0;32mTrue\u001b[0m\u001b[0;34m)\u001b[0m\u001b[0;34m\u001b[0m\u001b[0m\n\u001b[0m\u001b[1;32m    342\u001b[0m \u001b[0;34m\u001b[0m\u001b[0m\n\u001b[1;32m    343\u001b[0m         \u001b[0;32mif\u001b[0m \u001b[0;32mnot\u001b[0m \u001b[0mcallable\u001b[0m\u001b[0;34m(\u001b[0m\u001b[0mself\u001b[0m\u001b[0;34m.\u001b[0m\u001b[0mscore_func\u001b[0m\u001b[0;34m)\u001b[0m\u001b[0;34m:\u001b[0m\u001b[0;34m\u001b[0m\u001b[0m\n",
      "\u001b[0;32m~/anaconda3/lib/python3.6/site-packages/sklearn/utils/validation.py\u001b[0m in \u001b[0;36mcheck_X_y\u001b[0;34m(X, y, accept_sparse, accept_large_sparse, dtype, order, copy, force_all_finite, ensure_2d, allow_nd, multi_output, ensure_min_samples, ensure_min_features, y_numeric, warn_on_dtype, estimator)\u001b[0m\n\u001b[1;32m    717\u001b[0m                     \u001b[0mensure_min_features\u001b[0m\u001b[0;34m=\u001b[0m\u001b[0mensure_min_features\u001b[0m\u001b[0;34m,\u001b[0m\u001b[0;34m\u001b[0m\u001b[0m\n\u001b[1;32m    718\u001b[0m                     \u001b[0mwarn_on_dtype\u001b[0m\u001b[0;34m=\u001b[0m\u001b[0mwarn_on_dtype\u001b[0m\u001b[0;34m,\u001b[0m\u001b[0;34m\u001b[0m\u001b[0m\n\u001b[0;32m--> 719\u001b[0;31m                     estimator=estimator)\n\u001b[0m\u001b[1;32m    720\u001b[0m     \u001b[0;32mif\u001b[0m \u001b[0mmulti_output\u001b[0m\u001b[0;34m:\u001b[0m\u001b[0;34m\u001b[0m\u001b[0m\n\u001b[1;32m    721\u001b[0m         y = check_array(y, 'csr', force_all_finite=True, ensure_2d=False,\n",
      "\u001b[0;32m~/anaconda3/lib/python3.6/site-packages/sklearn/utils/validation.py\u001b[0m in \u001b[0;36mcheck_array\u001b[0;34m(array, accept_sparse, accept_large_sparse, dtype, order, copy, force_all_finite, ensure_2d, allow_nd, ensure_min_samples, ensure_min_features, warn_on_dtype, estimator)\u001b[0m\n\u001b[1;32m    540\u001b[0m         \u001b[0;32mif\u001b[0m \u001b[0mforce_all_finite\u001b[0m\u001b[0;34m:\u001b[0m\u001b[0;34m\u001b[0m\u001b[0m\n\u001b[1;32m    541\u001b[0m             _assert_all_finite(array,\n\u001b[0;32m--> 542\u001b[0;31m                                allow_nan=force_all_finite == 'allow-nan')\n\u001b[0m\u001b[1;32m    543\u001b[0m \u001b[0;34m\u001b[0m\u001b[0m\n\u001b[1;32m    544\u001b[0m     \u001b[0;32mif\u001b[0m \u001b[0mensure_min_samples\u001b[0m \u001b[0;34m>\u001b[0m \u001b[0;36m0\u001b[0m\u001b[0;34m:\u001b[0m\u001b[0;34m\u001b[0m\u001b[0m\n",
      "\u001b[0;32m~/anaconda3/lib/python3.6/site-packages/sklearn/utils/validation.py\u001b[0m in \u001b[0;36m_assert_all_finite\u001b[0;34m(X, allow_nan)\u001b[0m\n\u001b[1;32m     54\u001b[0m                 not allow_nan and not np.isfinite(X).all()):\n\u001b[1;32m     55\u001b[0m             \u001b[0mtype_err\u001b[0m \u001b[0;34m=\u001b[0m \u001b[0;34m'infinity'\u001b[0m \u001b[0;32mif\u001b[0m \u001b[0mallow_nan\u001b[0m \u001b[0;32melse\u001b[0m \u001b[0;34m'NaN, infinity'\u001b[0m\u001b[0;34m\u001b[0m\u001b[0m\n\u001b[0;32m---> 56\u001b[0;31m             \u001b[0;32mraise\u001b[0m \u001b[0mValueError\u001b[0m\u001b[0;34m(\u001b[0m\u001b[0mmsg_err\u001b[0m\u001b[0;34m.\u001b[0m\u001b[0mformat\u001b[0m\u001b[0;34m(\u001b[0m\u001b[0mtype_err\u001b[0m\u001b[0;34m,\u001b[0m \u001b[0mX\u001b[0m\u001b[0;34m.\u001b[0m\u001b[0mdtype\u001b[0m\u001b[0;34m)\u001b[0m\u001b[0;34m)\u001b[0m\u001b[0;34m\u001b[0m\u001b[0m\n\u001b[0m\u001b[1;32m     57\u001b[0m     \u001b[0;31m# for object dtype data, we only check for NaNs (GH-13254)\u001b[0m\u001b[0;34m\u001b[0m\u001b[0;34m\u001b[0m\u001b[0m\n\u001b[1;32m     58\u001b[0m     \u001b[0;32melif\u001b[0m \u001b[0mX\u001b[0m\u001b[0;34m.\u001b[0m\u001b[0mdtype\u001b[0m \u001b[0;34m==\u001b[0m \u001b[0mnp\u001b[0m\u001b[0;34m.\u001b[0m\u001b[0mdtype\u001b[0m\u001b[0;34m(\u001b[0m\u001b[0;34m'object'\u001b[0m\u001b[0;34m)\u001b[0m \u001b[0;32mand\u001b[0m \u001b[0;32mnot\u001b[0m \u001b[0mallow_nan\u001b[0m\u001b[0;34m:\u001b[0m\u001b[0;34m\u001b[0m\u001b[0m\n",
      "\u001b[0;31mValueError\u001b[0m: Input contains NaN, infinity or a value too large for dtype('float64')."
     ]
    }
   ],
   "source": [
    "from sklearn.feature_selection import SelectKBest\n",
    "from sklearn.feature_selection import chi2\n",
    "# load data\n",
    "x = data[['match_event_id','location_x','location_y',\\\n",
    "              'remaining_min','power_of_shot','knockout_match',\\\n",
    "              'remaining_sec','distance_of_shot',\\\n",
    "              'area_of_shot','shot_basics',\\\n",
    "              'shot_id_number',\\\n",
    "              'type_of_shot','type_of_combined_shot',\\\n",
    "              'match_id','team_id','remaining_min_1',\\\n",
    "              'power_of_shot_1','knockout_match_1',\\\n",
    "              'remaining_sec_1','distance_of_shot_1',\\\n",
    "              'lower_range','upper_range']].values\n",
    "\n",
    "y = data[['is_goal']]\n",
    "\n",
    "# feature extraction\n",
    "test = SelectKBest(score_func=chi2, k=6)\n",
    "fit = test.fit(x, y)\n",
    "# summarize scores\n",
    "np.set_printoptions(precision=3)\n",
    "print(fit.scores_)\n",
    "features = fit.transform(X)\n",
    "# summarize selected features\n",
    "print(features[0:5,:])"
   ]
  },
  {
   "cell_type": "code",
   "execution_count": 27,
   "metadata": {},
   "outputs": [],
   "source": [
    "# print (data[data.match_event_id.isnull()].shape,\\\n",
    "#        data[data.location_x.isnull()].shape,\\\n",
    "#        data[data.location_y.isnull()].shape,\\\n",
    "#        data[data.remaining_min.isnull()].shape,\\\n",
    "#        data[data.power_of_shot.isnull()].shape,\\\n",
    "#        data[data.knockout_match.isnull()].shape,\\\n",
    "#        data[data.distance_of_shot.isnull()].shape,\\\n",
    "#        data[data.area_of_shot.isnull()].shape,\\\n",
    "#        data[data.shot_basics.isnull()].shape,\\\n",
    "#        data[data.lower_range.isnull()].shape,\\\n",
    "#        data[data.upper_range.isnull()].shape,\\\n",
    "#        data[data.type_of_shot.isnull()].shape,\\\n",
    "#        data[data.type_of_combined_shot.isnull()].shape)"
   ]
  },
  {
   "cell_type": "code",
   "execution_count": 28,
   "metadata": {},
   "outputs": [],
   "source": [
    "X_cols = ['location_x','location_y','remaining_min','knockout_match'\\\n",
    "          ,'distance_of_shot',\\\n",
    "          #,'home/away',\\\n",
    "          'power_of_shot_1_0','power_of_shot_2_0'\\\n",
    "          ,'power_of_shot_3_0','power_of_shot_4_0','power_of_shot_5_0'\\\n",
    "          ,'power_of_shot_6_0','power_of_shot_7_0','area_of_shot_0','area_of_shot_1'\\\n",
    "          ,'area_of_shot_2','area_of_shot_3','area_of_shot_4','area_of_shot_5','shot_basics_0'\\\n",
    "          ,'shot_basics_1','shot_basics_2','shot_basics_3','shot_basics_4','shot_basics_5'\\\n",
    "          ,'shot_basics_6','lower_range_0','lower_range_24','lower_range_16','lower_range_8'\\\n",
    "          ,'upper_range_8','upper_range_32','upper_range_16','upper_range_24','type_of_shot_0'\\\n",
    "          ,'type_of_shot_1','type_of_shot_2','type_of_shot_3','type_of_shot_4','type_of_shot_5'\\\n",
    "          ,'type_of_shot_6','type_of_shot_7','type_of_shot_8','type_of_shot_9','type_of_shot_10'\\\n",
    "          ,'type_of_shot_11','type_of_shot_12','type_of_shot_13','type_of_shot_14'\\\n",
    "          ,'type_of_shot_15','type_of_shot_16','type_of_shot_17','type_of_shot_18'\\\n",
    "          ,'type_of_shot_19','type_of_shot_20','type_of_shot_21','type_of_shot_22'\\\n",
    "          ,'type_of_shot_23','type_of_shot_24','type_of_shot_25','type_of_shot_26'\\\n",
    "          ,'type_of_shot_27','type_of_shot_28','type_of_shot_29','type_of_shot_30'\\\n",
    "          ,'type_of_shot_31','type_of_shot_32','type_of_shot_33','type_of_shot_34'\\\n",
    "          ,'type_of_shot_35','type_of_shot_36','type_of_shot_37','type_of_shot_38'\\\n",
    "          ,'type_of_shot_39','type_of_shot_40','type_of_shot_41','type_of_shot_42'\\\n",
    "          ,'type_of_shot_43','type_of_shot_44','type_of_shot_45','type_of_shot_46'\\\n",
    "          ,'type_of_shot_47','type_of_shot_48','type_of_shot_49','type_of_shot_50'\\\n",
    "          ,'type_of_shot_51','type_of_shot_52','type_of_shot_53','type_of_shot_54'\\\n",
    "          ,'type_of_shot_55','type_of_shot_56','type_of_combined_shot_0','type_of_combined_shot_1'\\\n",
    "          ,'type_of_combined_shot_2','type_of_combined_shot_3','type_of_combined_shot_4','type_of_combined_shot_5']"
   ]
  },
  {
   "cell_type": "code",
   "execution_count": 29,
   "metadata": {},
   "outputs": [],
   "source": [
    "def plotPrecisionRecallCurve(y_test, y_pred, average_precision):\n",
    "    from sklearn.metrics import precision_recall_curve\n",
    "    import matplotlib.pyplot as plt\n",
    "    from inspect import signature\n",
    "\n",
    "    precision, recall, _ = precision_recall_curve(y_test, y_pred)\n",
    "\n",
    "    # In matplotlib < 1.5, plt.fill_between does not have a 'step' argument\n",
    "    step_kwargs = ({'step': 'post'}\n",
    "                   if 'step' in signature(plt.fill_between).parameters\n",
    "                   else {})\n",
    "    plt.step(recall, precision, color='b', alpha=0.2,\n",
    "             where='post')\n",
    "    plt.fill_between(recall, precision, alpha=0.2, color='b', **step_kwargs)\n",
    "\n",
    "    plt.xlabel('Recall')\n",
    "    plt.ylabel('Precision')\n",
    "    plt.ylim([0.0, 1.05])\n",
    "    plt.xlim([0.0, 1.0])\n",
    "    plt.title('2-class Precision-Recall curve: AP={0:0.2f}'.format(\n",
    "              average_precision))"
   ]
  },
  {
   "cell_type": "code",
   "execution_count": 30,
   "metadata": {},
   "outputs": [],
   "source": [
    "def plotROCCurve(y_test, y_pred, model):\n",
    "    import sklearn.metrics as metrics\n",
    "    # calculate the fpr and tpr for all thresholds of the classification\n",
    "    probs = model.predict_proba(X_test)\n",
    "    preds = probs[:,1]\n",
    "    fpr, tpr, threshold = metrics.roc_curve(y_test, preds)\n",
    "    roc_auc = metrics.auc(fpr, tpr)\n",
    "\n",
    "    # method I: plt\n",
    "    import matplotlib.pyplot as plt\n",
    "    plt.title('Receiver Operating Characteristic')\n",
    "    plt.plot(fpr, tpr, 'b', label = 'AUC = %0.2f' % roc_auc)\n",
    "    plt.legend(loc = 'lower right')\n",
    "    plt.plot([0, 1], [0, 1],'r--')\n",
    "    plt.xlim([0, 1])\n",
    "    plt.ylim([0, 1])\n",
    "    plt.ylabel('True Positive Rate')\n",
    "    plt.xlabel('False Positive Rate')\n",
    "    plt.show()"
   ]
  },
  {
   "cell_type": "code",
   "execution_count": 31,
   "metadata": {},
   "outputs": [],
   "source": [
    "def evaluatePredictions(y_test, y_pred, y_train, y_pred_train, classifier):\n",
    "    # Making the Confusion Matrix\n",
    "    cm_test = confusion_matrix(y_test, y_pred)\n",
    "    cm_train = confusion_matrix(y_train, y_pred_train)\n",
    "    accuracy_test = accuracy_score(y_test, y_pred)\n",
    "    accuracy_train = accuracy_score(y_train, y_pred_train)\n",
    "    \n",
    "    average_precision = average_precision_score(y_test, y_pred)\n",
    "    print (f\"{cm_test} \\n {accuracy_test} \\n\\n {cm_train} \\n {accuracy_train} \\n\\nPrecision Recall Score = {average_precision} \")\n",
    "    print (f\"\\n\\nClassification Report\\n {classification_report(y_test, y_pred)}\\n\")\n",
    "    plotROCCurve(y_test, y_pred, classifier)\n",
    "#     plotPrecisionRecallCurve(y_test, y_pred, average_precision)\n",
    "\n",
    "    "
   ]
  },
  {
   "cell_type": "code",
   "execution_count": 46,
   "metadata": {},
   "outputs": [
    {
     "name": "stderr",
     "output_type": "stream",
     "text": [
      "/Users/bhavi/anaconda3/lib/python3.6/site-packages/sklearn/linear_model/logistic.py:432: FutureWarning: Default solver will be changed to 'lbfgs' in 0.22. Specify a solver to silence this warning.\n",
      "  FutureWarning)\n",
      "/Users/bhavi/anaconda3/lib/python3.6/site-packages/sklearn/utils/validation.py:724: DataConversionWarning: A column-vector y was passed when a 1d array was expected. Please change the shape of y to (n_samples, ), for example using ravel().\n",
      "  y = column_or_1d(y, warn=True)\n"
     ]
    },
    {
     "name": "stdout",
     "output_type": "stream",
     "text": [
      "[[1050  319]\n",
      " [ 604  470]] \n",
      " 0.6221858370855505 \n",
      "\n",
      " [[9470 2711]\n",
      " [5566 4239]] \n",
      " 0.6235331574638406 \n",
      "\n",
      "Precision Recall Score = 0.5079210366984654 \n",
      "\n",
      "\n",
      "Classification Report\n",
      "               precision    recall  f1-score   support\n",
      "\n",
      "         0.0       0.63      0.77      0.69      1369\n",
      "         1.0       0.60      0.44      0.50      1074\n",
      "\n",
      "    accuracy                           0.62      2443\n",
      "   macro avg       0.62      0.60      0.60      2443\n",
      "weighted avg       0.62      0.62      0.61      2443\n",
      "\n",
      "\n"
     ]
    },
    {
     "data": {
      "image/png": "[encoded data removed]",
      "text/plain": [
       "<Figure size 432x288 with 1 Axes>"
      ]
     },
     "metadata": {},
     "output_type": "display_data"
    },
    {
     "name": "stderr",
     "output_type": "stream",
     "text": [
      "/Users/bhavi/anaconda3/lib/python3.6/site-packages/sklearn/preprocessing/label.py:219: DataConversionWarning: A column-vector y was passed when a 1d array was expected. Please change the shape of y to (n_samples, ), for example using ravel().\n",
      "  y = column_or_1d(y, warn=True)\n",
      "/Users/bhavi/anaconda3/lib/python3.6/site-packages/sklearn/preprocessing/label.py:252: DataConversionWarning: A column-vector y was passed when a 1d array was expected. Please change the shape of y to (n_samples, ), for example using ravel().\n",
      "  y = column_or_1d(y, warn=True)\n"
     ]
    },
    {
     "name": "stdout",
     "output_type": "stream",
     "text": [
      "[[1175  194]\n",
      " [ 690  384]] \n",
      " 0.6381498158002455 \n",
      "\n",
      " [[10623  1558]\n",
      " [ 6278  3527]] \n",
      " 0.6435913763303921 \n",
      "\n",
      "Precision Recall Score = 0.5199761102399165 \n",
      "\n",
      "\n",
      "Classification Report\n",
      "               precision    recall  f1-score   support\n",
      "\n",
      "         0.0       0.63      0.86      0.73      1369\n",
      "         1.0       0.66      0.36      0.46      1074\n",
      "\n",
      "    accuracy                           0.64      2443\n",
      "   macro avg       0.65      0.61      0.60      2443\n",
      "weighted avg       0.65      0.64      0.61      2443\n",
      "\n",
      "\n"
     ]
    },
    {
     "data": {
      "image/png": "[encoded data removed]",
      "text/plain": [
       "<Figure size 432x288 with 1 Axes>"
      ]
     },
     "metadata": {},
     "output_type": "display_data"
    },
    {
     "name": "stderr",
     "output_type": "stream",
     "text": [
      "/Users/bhavi/anaconda3/lib/python3.6/site-packages/ipykernel_launcher.py:72: DataConversionWarning: A column-vector y was passed when a 1d array was expected. Please change the shape of y to (n_samples,), for example using ravel().\n"
     ]
    },
    {
     "name": "stdout",
     "output_type": "stream",
     "text": [
      "[[1009  360]\n",
      " [ 620  454]] \n",
      " 0.5988538681948424 \n",
      "\n",
      " [[11658   523]\n",
      " [  755  9050]] \n",
      " 0.9418721004275448 \n",
      "\n",
      "Precision Recall Score = 0.4895533294150253 \n",
      "\n",
      "\n",
      "Classification Report\n",
      "               precision    recall  f1-score   support\n",
      "\n",
      "         0.0       0.62      0.74      0.67      1369\n",
      "         1.0       0.56      0.42      0.48      1074\n",
      "\n",
      "    accuracy                           0.60      2443\n",
      "   macro avg       0.59      0.58      0.58      2443\n",
      "weighted avg       0.59      0.60      0.59      2443\n",
      "\n",
      "\n"
     ]
    },
    {
     "data": {
      "image/png": "[encoded data removed]",
      "text/plain": [
       "<Figure size 432x288 with 1 Axes>"
      ]
     },
     "metadata": {},
     "output_type": "display_data"
    }
   ],
   "source": [
    "X = data[X_cols].values\n",
    "y = data[['is_goal']].values\n",
    "\n",
    "# from sklearn.preprocessing import OneHotEncoder\n",
    "# from sklearn.compose import ColumnTransformer\n",
    "\n",
    "# ct = ColumnTransformer(\n",
    "#     [('one_hot_encoder', OneHotEncoder(), [5, 6, 7, 8, 10, 11])],    # The column numbers to be transformed (here is [0] but can be [0, 1, 3])\n",
    "#     remainder='passthrough'                         # Leave the rest of the columns untouched\n",
    "# )\n",
    "\n",
    "# X = np.array(ct.fit_transform(X), dtype=np.float)\n",
    "\n",
    "\n",
    "from sklearn.utils import shuffle\n",
    "X, y = shuffle(X, y)\n",
    "\n",
    "from sklearn.model_selection import train_test_split\n",
    "X_train, X_test, y_train, y_test = train_test_split(X, y, test_size = 0.1, random_state = 0) # from 10 observations- 2 in test set and 8 in training set, random state is not necessary\n",
    "\n",
    "''' Feature Scaling '''\n",
    "from sklearn.preprocessing import StandardScaler\n",
    "sc_X = StandardScaler()\n",
    "X_train =sc_X.fit_transform(X_train)\n",
    "X_test =sc_X.transform(X_test)\n",
    "# debate on scaling dummy variablesm\n",
    "\n",
    "from sklearn.linear_model import LogisticRegression\n",
    "logistic = LogisticRegression(random_state = 0)\n",
    "logistic.fit(X_train, y_train)\n",
    "y_pred_train = logistic.predict(X_train)\n",
    "\n",
    "# Predicting the Test set results\n",
    "y_pred = logistic.predict(X_test)\n",
    "\n",
    "evaluatePredictions(y_test, y_pred, y_train, y_pred_train, logistic)\n",
    "\n",
    "from xgboost import XGBClassifier\n",
    "xboost_classifier = XGBClassifier()\n",
    "xboost_classifier.fit(X_train, y_train)\n",
    "\n",
    "y_pred_train = xboost_classifier.predict(X_train)\n",
    "y_pred = xboost_classifier.predict(X_test)\n",
    "\n",
    "evaluatePredictions(y_test, y_pred, y_train, y_pred_train, xboost_classifier)\n",
    "probs = xboost_classifier.predict_proba(X_test)\n",
    "\n",
    "\n",
    "# from sklearn.svm import SVC\n",
    "# classifier = SVC(kernel = 'rbf', random_state = 0)\n",
    "# classifier.fit(X_train, y_train)\n",
    "\n",
    "# y_pred_train = classifier.predict(X_train)\n",
    "# y_pred = classifier.predict(X_test)\n",
    "\n",
    "# evaluatePredictions(y_test, y_pred, y_train, y_pred_train, classifier)\n",
    "\n",
    "\n",
    "# from sklearn.neighbors import KNeighborsClassifier\n",
    "# classifier = KNeighborsClassifier(n_neighbors = 20, metric = 'minkowski', p = 2)\n",
    "# classifier.fit(X_train, y_train)\n",
    "\n",
    "# y_pred_train = classifier.predict(X_train)\n",
    "# y_pred = classifier.predict(X_test)\n",
    "\n",
    "# evaluatePredictions(y_test, y_pred, y_train, y_pred_train, classifier)\n",
    "\n",
    "\n",
    "# Fitting Random Forest Classification to the Training set\n",
    "from sklearn.ensemble import RandomForestClassifier\n",
    "classifier = RandomForestClassifier(n_estimators = 10, criterion = 'entropy', random_state = 0)\n",
    "classifier.fit(X_train, y_train)\n",
    "\n",
    "y_pred_train = classifier.predict(X_train)\n",
    "y_pred = classifier.predict(X_test)\n",
    "\n",
    "evaluatePredictions(y_test, y_pred, y_train, y_pred_train, classifier)"
   ]
  },
  {
   "cell_type": "code",
   "execution_count": 34,
   "metadata": {},
   "outputs": [],
   "source": [
    "X = submission[X_cols].values\n",
    "# y = submission[['is_goal']].values\n",
    "submission.shape\n",
    "\n",
    "# print (X.shape)\n",
    "\n",
    "# from sklearn.preprocessing import OneHotEncoder\n",
    "# from sklearn.compose import ColumnTransformer\n",
    "\n",
    "# ct = ColumnTransformer(\n",
    "#     [('one_hot_encoder', OneHotEncoder(), [5, 6, 7, 8, 10, 11])],    # The column numbers to be transformed (here is [0] but can be [0, 1, 3])\n",
    "#     remainder='passthrough'                         # Leave the rest of the columns untouched\n",
    "# )\n",
    "\n",
    "# X = np.array(ct.fit_transform(X), dtype=np.float)\n",
    "\n",
    "# print(X.shape)\n",
    "\n",
    "# from sklearn.utils import shuffle\n",
    "# X, y = shuffle(X, y)\n",
    "\n",
    "# from sklearn.model_selection import train_test_split\n",
    "# X_train, X_test, y_train, y_test = train_test_split(X, y, test_size = 0.1, random_state = 0) # from 10 observations- 2 in test set and 8 in training set, random state is not necessary\n",
    "\n",
    "# ''' Feature Scaling '''\n",
    "from sklearn.preprocessing import StandardScaler\n",
    "sc_X = StandardScaler()\n",
    "X =sc_X.fit_transform(X)\n",
    "\n",
    "probs = xboost_classifier.predict_proba(X)"
   ]
  },
  {
   "cell_type": "code",
   "execution_count": 38,
   "metadata": {},
   "outputs": [],
   "source": [
    "solution = pd.DataFrame(columns=['shot_id_number', 'is_goal'])\n",
    "\n",
    "solution['shot_id_number'] = submission['shot_id_number']\n",
    "solution['is_goal'] = probs"
   ]
  },
  {
   "cell_type": "code",
   "execution_count": 43,
   "metadata": {},
   "outputs": [],
   "source": [
    "solution.to_csv(\"bhavi_chawla_280998_code_1.csv\",index=False)"
   ]
  },
  {
   "cell_type": "code",
   "execution_count": 67,
   "metadata": {},
   "outputs": [
    {
     "ename": "KeyError",
     "evalue": "\"['power_of_shot_1_0' 'power_of_shot_2_0' 'power_of_shot_3_0'\\n 'power_of_shot_4_0' 'power_of_shot_5_0' 'power_of_shot_6_0'\\n 'power_of_shot_7_0' 'area_of_shot_0' 'area_of_shot_1' 'area_of_shot_2'\\n 'area_of_shot_3' 'area_of_shot_4' 'area_of_shot_5' 'shot_basics_0'\\n 'shot_basics_1' 'shot_basics_2' 'shot_basics_3' 'shot_basics_4'\\n 'shot_basics_5' 'shot_basics_6' 'lower_range_0' 'lower_range_24'\\n 'lower_range_16' 'lower_range_8' 'upper_range_8' 'upper_range_32'\\n 'upper_range_16' 'upper_range_24' 'type_of_shot_0' 'type_of_shot_1'\\n 'type_of_shot_2' 'type_of_shot_3' 'type_of_shot_4' 'type_of_shot_5'\\n 'type_of_shot_6' 'type_of_shot_7' 'type_of_shot_8' 'type_of_shot_9'\\n 'type_of_shot_10' 'type_of_shot_11' 'type_of_shot_12' 'type_of_shot_13'\\n 'type_of_shot_14' 'type_of_shot_15' 'type_of_shot_16' 'type_of_shot_17'\\n 'type_of_shot_18' 'type_of_shot_19' 'type_of_shot_20' 'type_of_shot_21'\\n 'type_of_shot_22' 'type_of_shot_23' 'type_of_shot_24' 'type_of_shot_25'\\n 'type_of_shot_26' 'type_of_shot_27' 'type_of_shot_28' 'type_of_shot_29'\\n 'type_of_shot_30' 'type_of_shot_31' 'type_of_shot_32' 'type_of_shot_33'\\n 'type_of_shot_34' 'type_of_shot_35' 'type_of_shot_36' 'type_of_shot_37'\\n 'type_of_shot_38' 'type_of_shot_39' 'type_of_shot_40' 'type_of_shot_41'\\n 'type_of_shot_42' 'type_of_shot_43' 'type_of_shot_44' 'type_of_shot_45'\\n 'type_of_shot_46' 'type_of_shot_47' 'type_of_shot_48' 'type_of_shot_49'\\n 'type_of_shot_50' 'type_of_shot_51' 'type_of_shot_52' 'type_of_shot_53'\\n 'type_of_shot_54' 'type_of_shot_55' 'type_of_shot_56'\\n 'type_of_combined_shot_0' 'type_of_combined_shot_1'\\n 'type_of_combined_shot_2' 'type_of_combined_shot_3'\\n 'type_of_combined_shot_4' 'type_of_combined_shot_5'] not in index\"",
     "output_type": "error",
     "traceback": [
      "\u001b[0;31m---------------------------------------------------------------------------\u001b[0m",
      "\u001b[0;31mKeyError\u001b[0m                                  Traceback (most recent call last)",
      "\u001b[0;32m<ipython-input-67-7cd2cd70ed69>\u001b[0m in \u001b[0;36m<module>\u001b[0;34m()\u001b[0m\n\u001b[1;32m     11\u001b[0m \u001b[0;31m# IDcol = 'ID'\u001b[0m\u001b[0;34m\u001b[0m\u001b[0;34m\u001b[0m\u001b[0m\n\u001b[1;32m     12\u001b[0m \u001b[0;34m\u001b[0m\u001b[0m\n\u001b[0;32m---> 13\u001b[0;31m \u001b[0mtrain\u001b[0m \u001b[0;34m=\u001b[0m \u001b[0mdata\u001b[0m\u001b[0;34m[\u001b[0m\u001b[0mX_cols\u001b[0m\u001b[0;34m]\u001b[0m\u001b[0;34m.\u001b[0m\u001b[0mvalues\u001b[0m\u001b[0;34m\u001b[0m\u001b[0m\n\u001b[0m\u001b[1;32m     14\u001b[0m \u001b[0mtarget\u001b[0m \u001b[0;34m=\u001b[0m \u001b[0mdata\u001b[0m\u001b[0;34m[\u001b[0m\u001b[0;34m[\u001b[0m\u001b[0;34m'is_goal'\u001b[0m\u001b[0;34m]\u001b[0m\u001b[0;34m]\u001b[0m\u001b[0;34m.\u001b[0m\u001b[0mvalues\u001b[0m\u001b[0;34m\u001b[0m\u001b[0m\n\u001b[1;32m     15\u001b[0m \u001b[0;34m\u001b[0m\u001b[0m\n",
      "\u001b[0;32m~/anaconda3/lib/python3.6/site-packages/pandas/core/frame.py\u001b[0m in \u001b[0;36m__getitem__\u001b[0;34m(self, key)\u001b[0m\n\u001b[1;32m   2677\u001b[0m         \u001b[0;32mif\u001b[0m \u001b[0misinstance\u001b[0m\u001b[0;34m(\u001b[0m\u001b[0mkey\u001b[0m\u001b[0;34m,\u001b[0m \u001b[0;34m(\u001b[0m\u001b[0mSeries\u001b[0m\u001b[0;34m,\u001b[0m \u001b[0mnp\u001b[0m\u001b[0;34m.\u001b[0m\u001b[0mndarray\u001b[0m\u001b[0;34m,\u001b[0m \u001b[0mIndex\u001b[0m\u001b[0;34m,\u001b[0m \u001b[0mlist\u001b[0m\u001b[0;34m)\u001b[0m\u001b[0;34m)\u001b[0m\u001b[0;34m:\u001b[0m\u001b[0;34m\u001b[0m\u001b[0m\n\u001b[1;32m   2678\u001b[0m             \u001b[0;31m# either boolean or fancy integer index\u001b[0m\u001b[0;34m\u001b[0m\u001b[0;34m\u001b[0m\u001b[0m\n\u001b[0;32m-> 2679\u001b[0;31m             \u001b[0;32mreturn\u001b[0m \u001b[0mself\u001b[0m\u001b[0;34m.\u001b[0m\u001b[0m_getitem_array\u001b[0m\u001b[0;34m(\u001b[0m\u001b[0mkey\u001b[0m\u001b[0;34m)\u001b[0m\u001b[0;34m\u001b[0m\u001b[0m\n\u001b[0m\u001b[1;32m   2680\u001b[0m         \u001b[0;32melif\u001b[0m \u001b[0misinstance\u001b[0m\u001b[0;34m(\u001b[0m\u001b[0mkey\u001b[0m\u001b[0;34m,\u001b[0m \u001b[0mDataFrame\u001b[0m\u001b[0;34m)\u001b[0m\u001b[0;34m:\u001b[0m\u001b[0;34m\u001b[0m\u001b[0m\n\u001b[1;32m   2681\u001b[0m             \u001b[0;32mreturn\u001b[0m \u001b[0mself\u001b[0m\u001b[0;34m.\u001b[0m\u001b[0m_getitem_frame\u001b[0m\u001b[0;34m(\u001b[0m\u001b[0mkey\u001b[0m\u001b[0;34m)\u001b[0m\u001b[0;34m\u001b[0m\u001b[0m\n",
      "\u001b[0;32m~/anaconda3/lib/python3.6/site-packages/pandas/core/frame.py\u001b[0m in \u001b[0;36m_getitem_array\u001b[0;34m(self, key)\u001b[0m\n\u001b[1;32m   2721\u001b[0m             \u001b[0;32mreturn\u001b[0m \u001b[0mself\u001b[0m\u001b[0;34m.\u001b[0m\u001b[0m_take\u001b[0m\u001b[0;34m(\u001b[0m\u001b[0mindexer\u001b[0m\u001b[0;34m,\u001b[0m \u001b[0maxis\u001b[0m\u001b[0;34m=\u001b[0m\u001b[0;36m0\u001b[0m\u001b[0;34m)\u001b[0m\u001b[0;34m\u001b[0m\u001b[0m\n\u001b[1;32m   2722\u001b[0m         \u001b[0;32melse\u001b[0m\u001b[0;34m:\u001b[0m\u001b[0;34m\u001b[0m\u001b[0m\n\u001b[0;32m-> 2723\u001b[0;31m             \u001b[0mindexer\u001b[0m \u001b[0;34m=\u001b[0m \u001b[0mself\u001b[0m\u001b[0;34m.\u001b[0m\u001b[0mloc\u001b[0m\u001b[0;34m.\u001b[0m\u001b[0m_convert_to_indexer\u001b[0m\u001b[0;34m(\u001b[0m\u001b[0mkey\u001b[0m\u001b[0;34m,\u001b[0m \u001b[0maxis\u001b[0m\u001b[0;34m=\u001b[0m\u001b[0;36m1\u001b[0m\u001b[0;34m)\u001b[0m\u001b[0;34m\u001b[0m\u001b[0m\n\u001b[0m\u001b[1;32m   2724\u001b[0m             \u001b[0;32mreturn\u001b[0m \u001b[0mself\u001b[0m\u001b[0;34m.\u001b[0m\u001b[0m_take\u001b[0m\u001b[0;34m(\u001b[0m\u001b[0mindexer\u001b[0m\u001b[0;34m,\u001b[0m \u001b[0maxis\u001b[0m\u001b[0;34m=\u001b[0m\u001b[0;36m1\u001b[0m\u001b[0;34m)\u001b[0m\u001b[0;34m\u001b[0m\u001b[0m\n\u001b[1;32m   2725\u001b[0m \u001b[0;34m\u001b[0m\u001b[0m\n",
      "\u001b[0;32m~/anaconda3/lib/python3.6/site-packages/pandas/core/indexing.py\u001b[0m in \u001b[0;36m_convert_to_indexer\u001b[0;34m(self, obj, axis, is_setter)\u001b[0m\n\u001b[1;32m   1325\u001b[0m                 \u001b[0;32mif\u001b[0m \u001b[0mmask\u001b[0m\u001b[0;34m.\u001b[0m\u001b[0many\u001b[0m\u001b[0;34m(\u001b[0m\u001b[0;34m)\u001b[0m\u001b[0;34m:\u001b[0m\u001b[0;34m\u001b[0m\u001b[0m\n\u001b[1;32m   1326\u001b[0m                     raise KeyError('{mask} not in index'\n\u001b[0;32m-> 1327\u001b[0;31m                                    .format(mask=objarr[mask]))\n\u001b[0m\u001b[1;32m   1328\u001b[0m \u001b[0;34m\u001b[0m\u001b[0m\n\u001b[1;32m   1329\u001b[0m                 \u001b[0;32mreturn\u001b[0m \u001b[0mcom\u001b[0m\u001b[0;34m.\u001b[0m\u001b[0m_values_from_object\u001b[0m\u001b[0;34m(\u001b[0m\u001b[0mindexer\u001b[0m\u001b[0;34m)\u001b[0m\u001b[0;34m\u001b[0m\u001b[0m\n",
      "\u001b[0;31mKeyError\u001b[0m: \"['power_of_shot_1_0' 'power_of_shot_2_0' 'power_of_shot_3_0'\\n 'power_of_shot_4_0' 'power_of_shot_5_0' 'power_of_shot_6_0'\\n 'power_of_shot_7_0' 'area_of_shot_0' 'area_of_shot_1' 'area_of_shot_2'\\n 'area_of_shot_3' 'area_of_shot_4' 'area_of_shot_5' 'shot_basics_0'\\n 'shot_basics_1' 'shot_basics_2' 'shot_basics_3' 'shot_basics_4'\\n 'shot_basics_5' 'shot_basics_6' 'lower_range_0' 'lower_range_24'\\n 'lower_range_16' 'lower_range_8' 'upper_range_8' 'upper_range_32'\\n 'upper_range_16' 'upper_range_24' 'type_of_shot_0' 'type_of_shot_1'\\n 'type_of_shot_2' 'type_of_shot_3' 'type_of_shot_4' 'type_of_shot_5'\\n 'type_of_shot_6' 'type_of_shot_7' 'type_of_shot_8' 'type_of_shot_9'\\n 'type_of_shot_10' 'type_of_shot_11' 'type_of_shot_12' 'type_of_shot_13'\\n 'type_of_shot_14' 'type_of_shot_15' 'type_of_shot_16' 'type_of_shot_17'\\n 'type_of_shot_18' 'type_of_shot_19' 'type_of_shot_20' 'type_of_shot_21'\\n 'type_of_shot_22' 'type_of_shot_23' 'type_of_shot_24' 'type_of_shot_25'\\n 'type_of_shot_26' 'type_of_shot_27' 'type_of_shot_28' 'type_of_shot_29'\\n 'type_of_shot_30' 'type_of_shot_31' 'type_of_shot_32' 'type_of_shot_33'\\n 'type_of_shot_34' 'type_of_shot_35' 'type_of_shot_36' 'type_of_shot_37'\\n 'type_of_shot_38' 'type_of_shot_39' 'type_of_shot_40' 'type_of_shot_41'\\n 'type_of_shot_42' 'type_of_shot_43' 'type_of_shot_44' 'type_of_shot_45'\\n 'type_of_shot_46' 'type_of_shot_47' 'type_of_shot_48' 'type_of_shot_49'\\n 'type_of_shot_50' 'type_of_shot_51' 'type_of_shot_52' 'type_of_shot_53'\\n 'type_of_shot_54' 'type_of_shot_55' 'type_of_shot_56'\\n 'type_of_combined_shot_0' 'type_of_combined_shot_1'\\n 'type_of_combined_shot_2' 'type_of_combined_shot_3'\\n 'type_of_combined_shot_4' 'type_of_combined_shot_5'] not in index\""
     ]
    }
   ],
   "source": [
    "from sklearn.model_selection import cross_validate\n",
    "from sklearn import metrics   #Additional scklearn functions\n",
    "from sklearn.model_selection import learning_curve, GridSearchCV\n",
    "import matplotlib.pylab as plt\n",
    "%matplotlib inline\n",
    "from matplotlib.pylab import rcParams\n",
    "rcParams['figure.figsize'] = 12, 4\n",
    "\n",
    "# train = pd.read_csv('train_modified.csv')\n",
    "# target = 'Disbursed'\n",
    "# IDcol = 'ID'\n",
    "\n",
    "train = data[X_cols].values\n",
    "target = data[['is_goal']].values\n",
    "\n",
    "\n",
    "def modelfit(alg, dtrain, predictors, performCV=True, printFeatureImportance=True, cv_folds=5):\n",
    "    #Fit the algorithm on the data\n",
    "    alg.fit(dtrain[predictors], dtrain['Disbursed'])\n",
    "        \n",
    "    #Predict training set:\n",
    "    dtrain_predictions = alg.predict(dtrain[predictors])\n",
    "    dtrain_predprob = alg.predict_proba(dtrain[predictors])[:,1]\n",
    "    \n",
    "    #Perform cross-validation:\n",
    "    if performCV:\n",
    "        cv_score = cross_validation.cross_val_score(alg, dtrain[predictors], dtrain['Disbursed'], cv=cv_folds, scoring='roc_auc')\n",
    "    \n",
    "    #Print model report:\n",
    "    print (\"\\nModel Report\")\n",
    "    print (\"Accuracy : %.4g\" % metrics.accuracy_score(dtrain['Disbursed'].values, dtrain_predictions))\n",
    "    print (\"AUC Score (Train): %f\" % metrics.roc_auc_score(dtrain['Disbursed'], dtrain_predprob))\n",
    "    \n",
    "    if performCV:\n",
    "        print (\"CV Score : Mean - %.7g | Std - %.7g | Min - %.7g | Max - %.7g\" % (np.mean(cv_score),np.std(cv_score),np.min(cv_score),np.max(cv_score)))\n",
    "        \n",
    "    #Print Feature Importance:\n",
    "    if printFeatureImportance:\n",
    "        feat_imp = pd.Series(alg.feature_importances_, predictors).sort_values(ascending=False)\n",
    "        feat_imp.plot(kind='bar', title='Feature Importances')\n",
    "        plt.ylabel('Feature Importance Score')\n",
    "\n",
    "#Choose all predictors except targe\n",
    "predictors = [x for x in train.columns if x not in [target]]\n",
    "gbm0 = GradientBoostingClassifier(random_state=10)\n",
    "modelfit(gbm0, train, predictors)\n",
    "\n",
    "\n"
   ]
  },
  {
   "cell_type": "code",
   "execution_count": null,
   "metadata": {},
   "outputs": [],
   "source": []
  },
  {
   "cell_type": "code",
   "execution_count": null,
   "metadata": {},
   "outputs": [],
   "source": []
  },
  {
   "cell_type": "code",
   "execution_count": null,
   "metadata": {},
   "outputs": [],
   "source": []
  },
  {
   "cell_type": "code",
   "execution_count": null,
   "metadata": {},
   "outputs": [],
   "source": []
  },
  {
   "cell_type": "code",
   "execution_count": null,
   "metadata": {},
   "outputs": [],
   "source": []
  },
  {
   "cell_type": "code",
   "execution_count": 45,
   "metadata": {},
   "outputs": [
    {
     "name": "stderr",
     "output_type": "stream",
     "text": [
      "/Users/bhavi/anaconda3/lib/python3.6/site-packages/sklearn/preprocessing/_encoders.py:415: FutureWarning: The handling of integer data will change in version 0.22. Currently, the categories are determined based on the range [0, max(values)], while in the future they will be determined based on the unique values.\n",
      "If you want the future behaviour and silence this warning, you can specify \"categories='auto'\".\n",
      "In case you used a LabelEncoder before this OneHotEncoder to convert the categories to integers, then you can now use the OneHotEncoder directly.\n",
      "  warnings.warn(msg, FutureWarning)\n"
     ]
    }
   ],
   "source": [
    "from sklearn.preprocessing import OneHotEncoder\n",
    "from sklearn.compose import ColumnTransformer\n",
    "\n",
    "ct = ColumnTransformer(\n",
    "    [('one_hot_encoder', OneHotEncoder(), [5, 6, 7, 8, 10, 11])],    # The column numbers to be transformed (here is [0] but can be [0, 1, 3])\n",
    "    remainder='passthrough'                         # Leave the rest of the columns untouched\n",
    ")\n",
    "\n",
    "X = np.array(ct.fit_transform(X), dtype=np.float)"
   ]
  },
  {
   "cell_type": "code",
   "execution_count": 46,
   "metadata": {},
   "outputs": [],
   "source": [
    "from sklearn.utils import shuffle\n",
    "X, y = shuffle(X, y)"
   ]
  },
  {
   "cell_type": "code",
   "execution_count": 47,
   "metadata": {},
   "outputs": [
    {
     "data": {
      "text/plain": [
       "(6268, 39)"
      ]
     },
     "execution_count": 47,
     "metadata": {},
     "output_type": "execute_result"
    }
   ],
   "source": [
    "X.shape"
   ]
  },
  {
   "cell_type": "code",
   "execution_count": 48,
   "metadata": {},
   "outputs": [],
   "source": [
    "from sklearn.model_selection import train_test_split\n",
    "X_train, X_test, y_train, y_test = train_test_split(X, y, test_size = 0.1, random_state = 0) # from 10 observations- 2 in test set and 8 in training set, random state is not necessary"
   ]
  },
  {
   "cell_type": "code",
   "execution_count": 35,
   "metadata": {},
   "outputs": [
    {
     "data": {
      "text/plain": [
       "((21986, 40), 9784.0, 0.4450104612025835)"
      ]
     },
     "execution_count": 35,
     "metadata": {},
     "output_type": "execute_result"
    }
   ],
   "source": [
    "X_train.shape, y_train.sum(), y_train.sum()/X_train.shape[0]\n",
    "# y_test.value_counts(normalize=True)"
   ]
  },
  {
   "cell_type": "code",
   "execution_count": 36,
   "metadata": {},
   "outputs": [],
   "source": [
    "# from imblearn.over_sampling import SMOTE\n",
    "# sm = SMOTE(random_state=12, ratio = 1.0)\n",
    "# x_train_res, y_train_res = sm.fit_sample(X_train, y_train)\n",
    "# X_train, y_train = x_train_res, y_train_res"
   ]
  },
  {
   "cell_type": "code",
   "execution_count": 37,
   "metadata": {},
   "outputs": [
    {
     "data": {
      "text/plain": [
       "((21986, 40), 9784.0, 0.4450104612025835)"
      ]
     },
     "execution_count": 37,
     "metadata": {},
     "output_type": "execute_result"
    }
   ],
   "source": [
    "X_train.shape, y_train.sum(), y_train.sum()/X_train.shape[0]\n",
    "# y_test.value_counts(normalize=True)"
   ]
  },
  {
   "cell_type": "code",
   "execution_count": 38,
   "metadata": {},
   "outputs": [],
   "source": [
    "''' Feature Scaling '''\n",
    "from sklearn.preprocessing import StandardScaler\n",
    "sc_X = StandardScaler()\n",
    "X_train =sc_X.fit_transform(X_train)\n",
    "X_test =sc_X.transform(X_test)\n",
    "# debate on scaling dummy variablesm"
   ]
  },
  {
   "cell_type": "code",
   "execution_count": 42,
   "metadata": {},
   "outputs": [
    {
     "name": "stderr",
     "output_type": "stream",
     "text": [
      "/Users/bhavi/anaconda3/lib/python3.6/site-packages/sklearn/linear_model/logistic.py:432: FutureWarning: Default solver will be changed to 'lbfgs' in 0.22. Specify a solver to silence this warning.\n",
      "  FutureWarning)\n",
      "/Users/bhavi/anaconda3/lib/python3.6/site-packages/sklearn/utils/validation.py:724: DataConversionWarning: A column-vector y was passed when a 1d array was expected. Please change the shape of y to (n_samples, ), for example using ravel().\n",
      "  y = column_or_1d(y, warn=True)\n"
     ]
    },
    {
     "name": "stdout",
     "output_type": "stream",
     "text": [
      "[[1153  195]\n",
      " [ 768  327]] \n",
      " 0.6058125255832992 \n",
      "\n",
      " [[10274  1928]\n",
      " [ 6635  3149]] \n",
      " 0.6105248794687529 \n",
      "\n",
      "Precision Recall Score = 0.5014404827484373 \n",
      "\n",
      "\n",
      "Classification Report\n",
      "               precision    recall  f1-score   support\n",
      "\n",
      "         0.0       0.60      0.86      0.71      1348\n",
      "         1.0       0.63      0.30      0.40      1095\n",
      "\n",
      "    accuracy                           0.61      2443\n",
      "   macro avg       0.61      0.58      0.55      2443\n",
      "weighted avg       0.61      0.61      0.57      2443\n",
      "\n",
      "\n"
     ]
    },
    {
     "data": {
      "image/png": "[encoded data removed]",
      "text/plain": [
       "<Figure size 432x288 with 1 Axes>"
      ]
     },
     "metadata": {},
     "output_type": "display_data"
    }
   ],
   "source": [
    "from sklearn.linear_model import LogisticRegression\n",
    "classifier = LogisticRegression(random_state = 0)\n",
    "classifier.fit(X_train, y_train)\n",
    "y_pred_train = classifier.predict(X_train)\n",
    "\n",
    "# Predicting the Test set results\n",
    "y_pred = classifier.predict(X_test)\n",
    "\n",
    "evaluatePredictions(y_test, y_pred, y_train, y_pred_train, classifier)"
   ]
  },
  {
   "cell_type": "code",
   "execution_count": 43,
   "metadata": {},
   "outputs": [
    {
     "name": "stderr",
     "output_type": "stream",
     "text": [
      "/Users/bhavi/anaconda3/lib/python3.6/site-packages/sklearn/preprocessing/label.py:219: DataConversionWarning: A column-vector y was passed when a 1d array was expected. Please change the shape of y to (n_samples, ), for example using ravel().\n",
      "  y = column_or_1d(y, warn=True)\n",
      "/Users/bhavi/anaconda3/lib/python3.6/site-packages/sklearn/preprocessing/label.py:252: DataConversionWarning: A column-vector y was passed when a 1d array was expected. Please change the shape of y to (n_samples, ), for example using ravel().\n",
      "  y = column_or_1d(y, warn=True)\n"
     ]
    },
    {
     "name": "stdout",
     "output_type": "stream",
     "text": [
      "[[1149  199]\n",
      " [ 725  370]] \n",
      " 0.6217765042979942 \n",
      "\n",
      " [[10293  1909]\n",
      " [ 6131  3653]] \n",
      " 0.6343127444737561 \n",
      "\n",
      "Precision Recall Score = 0.5164900513829245 \n",
      "\n",
      "\n",
      "Classification Report\n",
      "               precision    recall  f1-score   support\n",
      "\n",
      "         0.0       0.61      0.85      0.71      1348\n",
      "         1.0       0.65      0.34      0.44      1095\n",
      "\n",
      "    accuracy                           0.62      2443\n",
      "   macro avg       0.63      0.60      0.58      2443\n",
      "weighted avg       0.63      0.62      0.59      2443\n",
      "\n",
      "\n"
     ]
    },
    {
     "data": {
      "image/png": "[encoded data removed]",
      "text/plain": [
       "<Figure size 432x288 with 1 Axes>"
      ]
     },
     "metadata": {},
     "output_type": "display_data"
    }
   ],
   "source": [
    "from xgboost import XGBClassifier\n",
    "classifier = XGBClassifier()\n",
    "classifier.fit(X_train, y_train)\n",
    "\n",
    "y_pred_train = classifier.predict(X_train)\n",
    "y_pred = classifier.predict(X_test)\n",
    "\n",
    "evaluatePredictions(y_test, y_pred, y_train, y_pred_train, classifier)\n",
    "probs = classifier.predict_proba(X_test)"
   ]
  },
  {
   "cell_type": "code",
   "execution_count": null,
   "metadata": {},
   "outputs": [],
   "source": [
    "#Submission\n",
    "\n"
   ]
  }
 ],
 "metadata": {
  "kernelspec": {
   "display_name": "Python 3",
   "language": "python",
   "name": "python3"
  },
  "language_info": {
   "codemirror_mode": {
    "name": "ipython",
    "version": 3
   },
   "file_extension": ".py",
   "mimetype": "text/x-python",
   "name": "python",
   "nbconvert_exporter": "python",
   "pygments_lexer": "ipython3",
   "version": "3.6.5"
  }
 },
 "nbformat": 4,
 "nbformat_minor": 2
}
